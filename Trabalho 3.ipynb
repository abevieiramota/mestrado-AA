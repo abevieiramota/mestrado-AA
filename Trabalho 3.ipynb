{
 "metadata": {
  "name": ""
 },
 "nbformat": 3,
 "nbformat_minor": 0,
 "worksheets": [
  {
   "cells": [
    {
     "cell_type": "heading",
     "level": 1,
     "metadata": {},
     "source": [
      "Imports"
     ]
    },
    {
     "cell_type": "code",
     "collapsed": false,
     "input": [
      "# biblioteca para sistema operacional\n",
      "import os\n",
      "# biblioteca para plots\n",
      "from matplotlib import pyplot as pl\n",
      "# biblioteca para dados estruturados\n",
      "import pandas as pd\n",
      "# biblioteca para manipula\u00e7\u00e3o de arrays\n",
      "import numpy as np\n",
      "# fun\u00e7\u00e3o para gera\u00e7\u00e3o de arrays c\u00edclicos\n",
      "from itertools import cycle\n",
      "# random\n",
      "import random\n",
      "import scipy.io\n",
      "from itertools import repeat\n",
      "from itertools import product"
     ],
     "language": "python",
     "metadata": {},
     "outputs": [],
     "prompt_number": 1
    },
    {
     "cell_type": "heading",
     "level": 1,
     "metadata": {},
     "source": [
      "Constantes"
     ]
    },
    {
     "cell_type": "code",
     "collapsed": false,
     "input": [
      "# pasta com os dados\n",
      "PATH_DADOS = \"Dados Exercicio 3\"\n",
      "\n",
      "# constantes da quest\u00e3o 1\n",
      "\n",
      "Q1_FILEPATH = os.path.join(PATH_DADOS, \"ex3data1.mat\")\n",
      "Q2_FILEPATH = os.path.join(PATH_DADOS, \"ex3data2.data\")"
     ],
     "language": "python",
     "metadata": {},
     "outputs": [],
     "prompt_number": 2
    },
    {
     "cell_type": "heading",
     "level": 1,
     "metadata": {},
     "source": [
      "Fun\u00e7\u00f5es"
     ]
    },
    {
     "cell_type": "code",
     "collapsed": false,
     "input": [
      "# recebe um vetor x de dimens\u00e3o (n, d, d) e um vetor y de dimens\u00e3o (n, c)\n",
      "def visualizar_imgs(X, T):\n",
      "    \n",
      "    n = X.shape[0]\n",
      "    \n",
      "    d_n = floor(sqrt(n))+1\n",
      "    \n",
      "    fig = pl.figure(figsize=(d_n,d_n))\n",
      "    \n",
      "    fig.subplots_adjust(left=0, right=1, bottom=0, top=1, hspace=0.05, wspace=0.05)\n",
      "    \n",
      "    for i in xrange(n):\n",
      "        \n",
      "        ax = fig.add_subplot(d_n, d_n, i+1, xticks=[], yticks=[])\n",
      "        ax.imshow(X[i], cmap=pl.cm.binary)\n",
      "        \n",
      "        ax.text(0, 18, str(T[i].argmax()))\n",
      "        \n",
      "def output_rede(hidden, output, x):\n",
      "\n",
      "    if x.ndim == 1:\n",
      "        x = x.reshape((x.shape[0], 1))\n",
      "        \n",
      "    x = np.vstack((-1*np.ones((1, x.shape[1])), x))\n",
      "    \n",
      "    y_hidden = np.dot(hidden, x)\n",
      "    sigma_hidden = 1./(1. + np.exp(-1.*y_hidden))\n",
      "    \n",
      "    sigma_hidden = np.vstack((-1*np.ones((1, sigma_hidden.shape[1])), sigma_hidden))\n",
      "   \n",
      "    y_output = np.dot(output, sigma_hidden)\n",
      "    sigma_output = 1./(1. + np.exp(-1.*y_output))\n",
      "    \n",
      "    return sigma_output, sigma_hidden\n",
      "\n",
      "def eqm(esperados, retornados):\n",
      "    \n",
      "\n",
      "    if esperados.ndim > 1 and esperados.shape[1] != 1:\n",
      "        esperados = np.apply_along_axis(lambda x: x.argmax(), 1, esperados)\n",
      "        retornados = np.apply_along_axis(lambda x: x.argmax(), 1, retornados)\n",
      "\n",
      "    return .5*np.sum((esperados - retornados)**2)    \n",
      "\n",
      "def indices_random(ns):\n",
      "    \n",
      "    n = np.sum(ns)\n",
      "    i_ns = np.cumsum(ns)\n",
      "    \n",
      "    indices_random = np.random.permutation(np.arange(0, n, 1))\n",
      "    \n",
      "    return np.array_split(indices_random, i_ns)[:-1]    "
     ],
     "language": "python",
     "metadata": {},
     "outputs": [],
     "prompt_number": 86
    },
    {
     "cell_type": "heading",
     "level": 1,
     "metadata": {},
     "source": [
      "Quest\u00e3o 1"
     ]
    },
    {
     "cell_type": "heading",
     "level": 3,
     "metadata": {},
     "source": [
      "Carregamento dos dados"
     ]
    },
    {
     "cell_type": "code",
     "collapsed": false,
     "input": [
      "dados_mat = scipy.io.loadmat(Q1_FILEPATH)"
     ],
     "language": "python",
     "metadata": {},
     "outputs": [],
     "prompt_number": 4
    },
    {
     "cell_type": "code",
     "collapsed": false,
     "input": [
      "T = np.array(dados_mat['T'])\n",
      "X = np.array(dados_mat['X'])"
     ],
     "language": "python",
     "metadata": {},
     "outputs": [],
     "prompt_number": 5
    },
    {
     "cell_type": "heading",
     "level": 1,
     "metadata": {},
     "source": [
      "Gradiente Descendente"
     ]
    },
    {
     "cell_type": "code",
     "collapsed": false,
     "input": [
      "def gradiente_descendente(X, T, n_hidden, lamb=.01, n_treino=4000, n_validacao=500, n_teste=500, max_epocas=100, apenas_epocas=False):\n",
      "    \n",
      "    # c\u00e1lculo do n\u00famero de exemplos\n",
      "    n = X.shape[0]\n",
      "    \n",
      "    # c\u00e1lculo do tamanho de entrada e sa\u00edda\n",
      "    n_input = X.shape[1]\n",
      "    n_output = T.shape[1]\n",
      "    \n",
      "    # erro de valida\u00e7\u00e3o inicial - utilizado como condi\u00e7\u00e3o de parada\n",
      "    eqm_validacao_anterior = 2**20\n",
      "    eqm_validacao = 2**20 - 1\n",
      "    \n",
      "    # inicializa\u00e7\u00e3o da rede\n",
      "    hidden = np.random.uniform(-0.5, 0.5, [n_hidden, n_input + 1])\n",
      "    output = np.random.uniform(-0.5, 0.5, [n_output, n_hidden + 1])\n",
      "    \n",
      "    # parti\u00e7\u00e3o em conjuntos de treinamento, valida\u00e7\u00e3o e teste\n",
      "    indices_treino, indices_validacao, indices_teste = indices_random([n_treino, n_validacao, n_teste])\n",
      "    \n",
      "    X_treino = np.take(X, indices_treino, axis=0)\n",
      "    X_validacao = np.take(X, indices_validacao, axis=0)\n",
      "    X_teste = np.take(X, indices_teste, axis=0)\n",
      "    \n",
      "    T_treino = np.take(T, indices_treino, axis=0)\n",
      "    T_validacao = np.take(T, indices_validacao, axis=0)\n",
      "    T_teste = np.take(T, indices_teste, axis=0)\n",
      "    \n",
      "    eqms_validacao = []\n",
      "    eqms_treino = []\n",
      "    \n",
      "    while (apenas_epocas or eqm_validacao < eqm_validacao_anterior) and len(eqms_validacao) < max_epocas:\n",
      "        \n",
      "        # randomiza\u00e7\u00e3o da ordem dos exemplos de treinamento\n",
      "        indices_epoca_random = np.random.permutation(np.arange(0, len(X_treino), 1))\n",
      "        X_treino = np.take(X_treino, indices_epoca_random, axis=0)\n",
      "        T_treino = np.take(T_treino, indices_epoca_random, axis=0)\n",
      "        \n",
      "        for i in xrange(n_treino):\n",
      "            \n",
      "            x = X_treino[i]\n",
      "            x = x.reshape((x.shape[0], 1))\n",
      "            t = T_treino[i]\n",
      "            t = t.reshape((t.shape[0], 1))\n",
      "            \n",
      "            # execu\u00e7\u00e3o da rede\n",
      "\n",
      "            X = np.vstack((-1*np.ones((1,1)), x))\n",
      "\n",
      "            y_hidden = np.dot(hidden, X)\n",
      "            sigma_hidden = 1./(1. + np.exp(-1.*y_hidden))\n",
      "\n",
      "            Y = np.vstack((-1*np.ones((1,1)), sigma_hidden))\n",
      "           \n",
      "            y_output = np.dot(output, Y)\n",
      "            sigma_output = 1./(1. + np.exp(-1.*y_output))\n",
      "            \n",
      "            # erro da camada output\n",
      "            e_output = sigma_output*(1. - sigma_output)*(t - sigma_output)\n",
      "            \n",
      "            # erro na camada hidden\n",
      "            e_hidden = sigma_hidden*(1. - sigma_hidden)*np.dot(output[:, 1:].T, e_output)\n",
      "            \n",
      "            # atualiza\u00e7\u00e3o dos pesos\n",
      "\n",
      "            hidden = hidden + lamb*np.dot(e_hidden, X.T)\n",
      "\n",
      "            output = output + lamb*np.dot(e_output, Y.T)\n",
      "            \n",
      "        # c\u00e1lculo dos erros pros conjuntos\n",
      "        y_treino, _ = output_rede(hidden, output, X_treino.T)\n",
      "        eqm_treino = eqm(T_treino, y_treino.T)\n",
      "        eqms_treino.append([eqm_treino, hidden, output])\n",
      "        \n",
      "        y_validacao, _ = output_rede(hidden, output, X_validacao.T)\n",
      "        eqm_validacao_anterior = eqm_validacao\n",
      "        \n",
      "        eqm_validacao = eqm(T_validacao, y_validacao.T)\n",
      "        eqms_validacao.append(eqm_validacao)\n",
      "        \n",
      "    y_teste, _ = output_rede(hidden, output, X_teste.T)\n",
      "    eqm_teste = eqm(T_teste, y_teste.T)\n",
      "        \n",
      "    return hidden, output, eqms_treino, eqms_validacao, eqm_teste"
     ],
     "language": "python",
     "metadata": {},
     "outputs": [],
     "prompt_number": 87
    },
    {
     "cell_type": "heading",
     "level": 1,
     "metadata": {},
     "source": [
      "Defini\u00e7\u00e3o dos par\u00e2metros"
     ]
    },
    {
     "cell_type": "heading",
     "level": 4,
     "metadata": {},
     "source": [
      "Par\u00e2metros a serem testados"
     ]
    },
    {
     "cell_type": "code",
     "collapsed": false,
     "input": [
      "quantidade_neuronios = [50, 100, 150, 200]\n",
      "lambs = [.01, .05, .1, .5]\n",
      "\n",
      "combinacoes_de_parametros = product(quantidade_neuronios, lambs)"
     ],
     "language": "python",
     "metadata": {},
     "outputs": [],
     "prompt_number": 7
    },
    {
     "cell_type": "heading",
     "level": 4,
     "metadata": {},
     "source": [
      "Execu\u00e7\u00e3o de valida\u00e7\u00e3o dos par\u00e2metros"
     ]
    },
    {
     "cell_type": "code",
     "collapsed": false,
     "input": [
      "resultados = []\n",
      "\n",
      "for qt_neuronios, lamb in combinacoes_de_parametros:\n",
      "    \n",
      "    _, _, _, v, _ = gradiente_descendente(X, T, qt_neuronios, lamb=lamb)\n",
      "    \n",
      "    resultados.append((qt_neuronios, lamb, np.min(v)))"
     ],
     "language": "python",
     "metadata": {},
     "outputs": [
      {
       "output_type": "stream",
       "stream": "stdout",
       "text": [
        "treinamento ( 50 0.01 )\n",
        "treinamento ("
       ]
      },
      {
       "output_type": "stream",
       "stream": "stdout",
       "text": [
        " 50 0.05 )\n",
        "treinamento ("
       ]
      },
      {
       "output_type": "stream",
       "stream": "stdout",
       "text": [
        " 50 0.1 )\n",
        "treinamento ("
       ]
      },
      {
       "output_type": "stream",
       "stream": "stdout",
       "text": [
        " 50 0.5 )\n",
        "treinamento ("
       ]
      },
      {
       "output_type": "stream",
       "stream": "stdout",
       "text": [
        " 100 0.01 )\n",
        "treinamento ("
       ]
      },
      {
       "output_type": "stream",
       "stream": "stdout",
       "text": [
        " 100 0.05 )\n",
        "treinamento ("
       ]
      },
      {
       "output_type": "stream",
       "stream": "stdout",
       "text": [
        " 100 0.1 )\n",
        "treinamento ("
       ]
      },
      {
       "output_type": "stream",
       "stream": "stdout",
       "text": [
        " 100 0.5 )\n",
        "treinamento ("
       ]
      },
      {
       "output_type": "stream",
       "stream": "stdout",
       "text": [
        " 150 0.01 )\n",
        "treinamento ("
       ]
      },
      {
       "output_type": "stream",
       "stream": "stdout",
       "text": [
        " 150 0.05 )\n",
        "treinamento ("
       ]
      },
      {
       "output_type": "stream",
       "stream": "stdout",
       "text": [
        " 150 0.1 )\n",
        "treinamento ("
       ]
      },
      {
       "output_type": "stream",
       "stream": "stdout",
       "text": [
        " 150 0.5 )\n",
        "treinamento ("
       ]
      },
      {
       "output_type": "stream",
       "stream": "stdout",
       "text": [
        " 200 0.01 )\n",
        "treinamento ("
       ]
      },
      {
       "output_type": "stream",
       "stream": "stdout",
       "text": [
        " 200 0.05 )\n",
        "treinamento ("
       ]
      },
      {
       "output_type": "stream",
       "stream": "stdout",
       "text": [
        " 200 0.1 )\n",
        "treinamento ("
       ]
      },
      {
       "output_type": "stream",
       "stream": "stdout",
       "text": [
        " 200 0.5 )\n"
       ]
      }
     ],
     "prompt_number": 8
    },
    {
     "cell_type": "code",
     "collapsed": false,
     "input": [
      "resultados = pd.DataFrame(resultados, columns=['neur\u00f4nios', 'lambda', 'min eqm'])"
     ],
     "language": "python",
     "metadata": {},
     "outputs": [],
     "prompt_number": 11
    },
    {
     "cell_type": "code",
     "collapsed": false,
     "input": [
      "resultados"
     ],
     "language": "python",
     "metadata": {},
     "outputs": [
      {
       "html": [
        "<div style=\"max-height:1000px;max-width:1500px;overflow:auto;\">\n",
        "<table border=\"1\" class=\"dataframe\">\n",
        "  <thead>\n",
        "    <tr style=\"text-align: right;\">\n",
        "      <th></th>\n",
        "      <th>neur\u00f4nios</th>\n",
        "      <th>lambda</th>\n",
        "      <th>min eqm</th>\n",
        "    </tr>\n",
        "  </thead>\n",
        "  <tbody>\n",
        "    <tr>\n",
        "      <th>0 </th>\n",
        "      <td>  50</td>\n",
        "      <td> 0.01</td>\n",
        "      <td> 642.5</td>\n",
        "    </tr>\n",
        "    <tr>\n",
        "      <th>1 </th>\n",
        "      <td>  50</td>\n",
        "      <td> 0.05</td>\n",
        "      <td> 500.0</td>\n",
        "    </tr>\n",
        "    <tr>\n",
        "      <th>2 </th>\n",
        "      <td>  50</td>\n",
        "      <td> 0.10</td>\n",
        "      <td> 572.0</td>\n",
        "    </tr>\n",
        "    <tr>\n",
        "      <th>3 </th>\n",
        "      <td>  50</td>\n",
        "      <td> 0.50</td>\n",
        "      <td> 325.0</td>\n",
        "    </tr>\n",
        "    <tr>\n",
        "      <th>4 </th>\n",
        "      <td> 100</td>\n",
        "      <td> 0.01</td>\n",
        "      <td> 398.5</td>\n",
        "    </tr>\n",
        "    <tr>\n",
        "      <th>5 </th>\n",
        "      <td> 100</td>\n",
        "      <td> 0.05</td>\n",
        "      <td> 487.5</td>\n",
        "    </tr>\n",
        "    <tr>\n",
        "      <th>6 </th>\n",
        "      <td> 100</td>\n",
        "      <td> 0.10</td>\n",
        "      <td> 354.0</td>\n",
        "    </tr>\n",
        "    <tr>\n",
        "      <th>7 </th>\n",
        "      <td> 100</td>\n",
        "      <td> 0.50</td>\n",
        "      <td> 259.5</td>\n",
        "    </tr>\n",
        "    <tr>\n",
        "      <th>8 </th>\n",
        "      <td> 150</td>\n",
        "      <td> 0.01</td>\n",
        "      <td> 504.5</td>\n",
        "    </tr>\n",
        "    <tr>\n",
        "      <th>9 </th>\n",
        "      <td> 150</td>\n",
        "      <td> 0.05</td>\n",
        "      <td> 462.5</td>\n",
        "    </tr>\n",
        "    <tr>\n",
        "      <th>10</th>\n",
        "      <td> 150</td>\n",
        "      <td> 0.10</td>\n",
        "      <td> 358.0</td>\n",
        "    </tr>\n",
        "    <tr>\n",
        "      <th>11</th>\n",
        "      <td> 150</td>\n",
        "      <td> 0.50</td>\n",
        "      <td> 343.5</td>\n",
        "    </tr>\n",
        "    <tr>\n",
        "      <th>12</th>\n",
        "      <td> 200</td>\n",
        "      <td> 0.01</td>\n",
        "      <td> 532.0</td>\n",
        "    </tr>\n",
        "    <tr>\n",
        "      <th>13</th>\n",
        "      <td> 200</td>\n",
        "      <td> 0.05</td>\n",
        "      <td> 367.0</td>\n",
        "    </tr>\n",
        "    <tr>\n",
        "      <th>14</th>\n",
        "      <td> 200</td>\n",
        "      <td> 0.10</td>\n",
        "      <td> 388.5</td>\n",
        "    </tr>\n",
        "    <tr>\n",
        "      <th>15</th>\n",
        "      <td> 200</td>\n",
        "      <td> 0.50</td>\n",
        "      <td> 171.0</td>\n",
        "    </tr>\n",
        "  </tbody>\n",
        "</table>\n",
        "</div>"
       ],
       "metadata": {},
       "output_type": "pyout",
       "prompt_number": 12,
       "text": [
        "    neur\u00f4nios  lambda  min eqm\n",
        "0          50    0.01    642.5\n",
        "1          50    0.05    500.0\n",
        "2          50    0.10    572.0\n",
        "3          50    0.50    325.0\n",
        "4         100    0.01    398.5\n",
        "5         100    0.05    487.5\n",
        "6         100    0.10    354.0\n",
        "7         100    0.50    259.5\n",
        "8         150    0.01    504.5\n",
        "9         150    0.05    462.5\n",
        "10        150    0.10    358.0\n",
        "11        150    0.50    343.5\n",
        "12        200    0.01    532.0\n",
        "13        200    0.05    367.0\n",
        "14        200    0.10    388.5\n",
        "15        200    0.50    171.0"
       ]
      }
     ],
     "prompt_number": 12
    },
    {
     "cell_type": "heading",
     "level": 4,
     "metadata": {},
     "source": [
      "Escolhemos ent\u00e3o os par\u00e2metros quantidade de neur\u00f4nios = 200 e lambda = 0.5 para o treinamento."
     ]
    },
    {
     "cell_type": "code",
     "collapsed": false,
     "input": [
      "h, o, t, v, eqm_teste = gradiente_descendente(X, T, 200, lamb=.5, apenas_epocas=True, max_epocas=100)"
     ],
     "language": "python",
     "metadata": {},
     "outputs": [],
     "prompt_number": 17
    },
    {
     "cell_type": "heading",
     "level": 4,
     "metadata": {},
     "source": [
      "EQM para o conjunto de teste"
     ]
    },
    {
     "cell_type": "code",
     "collapsed": false,
     "input": [
      "eqm_teste"
     ],
     "language": "python",
     "metadata": {},
     "outputs": [
      {
       "metadata": {},
       "output_type": "pyout",
       "prompt_number": 18,
       "text": [
        "166.5"
       ]
      }
     ],
     "prompt_number": 18
    },
    {
     "cell_type": "heading",
     "level": 4,
     "metadata": {},
     "source": [
      "Gr\u00e1fico \u00e9poca x eqm treino"
     ]
    },
    {
     "cell_type": "code",
     "collapsed": false,
     "input": [
      "eqm_treino = np.array([x[0] for x in t])\n",
      "pl.plot(np.arange(0, len(eqm_treino), 1), eqm_treino)"
     ],
     "language": "python",
     "metadata": {},
     "outputs": [
      {
       "metadata": {},
       "output_type": "pyout",
       "prompt_number": 19,
       "text": [
        "[<matplotlib.lines.Line2D at 0x31ab890>]"
       ]
      },
      {
       "metadata": {},
       "output_type": "display_data",
       "png": "[encoded data removed]",
       "text": [
        "<matplotlib.figure.Figure at 0x317c810>"
       ]
      }
     ],
     "prompt_number": 19
    },
    {
     "cell_type": "heading",
     "level": 4,
     "metadata": {},
     "source": [
      "Gr\u00e1fico \u00e9poca x eqm valida\u00e7\u00e3o"
     ]
    },
    {
     "cell_type": "code",
     "collapsed": false,
     "input": [
      "pl.plot(np.arange(0, len(v), 1), v)"
     ],
     "language": "python",
     "metadata": {},
     "outputs": [
      {
       "metadata": {},
       "output_type": "pyout",
       "prompt_number": 20,
       "text": [
        "[<matplotlib.lines.Line2D at 0x3349810>]"
       ]
      },
      {
       "metadata": {},
       "output_type": "display_data",
       "png": "[encoded data removed]",
       "text": [
        "<matplotlib.figure.Figure at 0x31b0250>"
       ]
      }
     ],
     "prompt_number": 20
    },
    {
     "cell_type": "heading",
     "level": 4,
     "metadata": {},
     "source": [
      "Coment\u00e1rio"
     ]
    },
    {
     "cell_type": "markdown",
     "metadata": {},
     "source": [
      "Atrav\u00e9s do processo de valida\u00e7\u00e3o, cheguei, dado um conjunto de par\u00e2metros, nos par\u00e2metros que geraram melhor resultado para o conjunto de valida\u00e7\u00e3o. \n",
      "Fixados os par\u00e2metros, realizei o treinamento e teste com o conjunto de dados de teste. \n",
      "Pelo gr\u00e1fixo de \u00e9pocas x eqm treino, percebe-se o decrescimento do erro para o conjunto de treino, indicando aprendizagem.\n",
      "Pelo gr\u00e1fico de \u00e9pocas x eqm valida\u00e7\u00e3o, percebe-se um decrescimento inicial e ent\u00e3o o gr\u00e1fico passa a oscilar.\n",
      "O eqm para o conjunto de testes foi 166.5, indicando uma quantidade de erros aproximadamente igual a 18."
     ]
    },
    {
     "cell_type": "heading",
     "level": 1,
     "metadata": {},
     "source": [
      "Quest\u00e3o 2"
     ]
    },
    {
     "cell_type": "heading",
     "level": 4,
     "metadata": {},
     "source": [
      "Carregamento dos dados"
     ]
    },
    {
     "cell_type": "code",
     "collapsed": false,
     "input": [
      "dados = np.genfromtxt(Q2_FILEPATH)"
     ],
     "language": "python",
     "metadata": {},
     "outputs": [],
     "prompt_number": 30
    },
    {
     "cell_type": "code",
     "collapsed": false,
     "input": [
      "X = dados[:, :-1]\n",
      "T = dados[:, -1]\n",
      "T = T.reshape((T.shape[0], 1))"
     ],
     "language": "python",
     "metadata": {},
     "outputs": [],
     "prompt_number": 40
    },
    {
     "cell_type": "heading",
     "level": 4,
     "metadata": {},
     "source": [
      "Normaliza\u00e7\u00e3o de T"
     ]
    },
    {
     "cell_type": "code",
     "collapsed": false,
     "input": [
      "t_min = np.min(T)\n",
      "t_max = np.max(T)\n",
      "\n",
      "T = (T - t_min)/(t_max - t_min)"
     ],
     "language": "python",
     "metadata": {},
     "outputs": [],
     "prompt_number": 41
    },
    {
     "cell_type": "heading",
     "level": 4,
     "metadata": {},
     "source": [
      "Par\u00e2metros a serem testados"
     ]
    },
    {
     "cell_type": "code",
     "collapsed": false,
     "input": [
      "quantidade_neuronios = [20, 40, 60, 80]\n",
      "lambs = [.01, .05, .1, .5]\n",
      "\n",
      "combinacoes_de_parametros = product(quantidade_neuronios, lambs)"
     ],
     "language": "python",
     "metadata": {},
     "outputs": [],
     "prompt_number": 88
    },
    {
     "cell_type": "heading",
     "level": 4,
     "metadata": {},
     "source": [
      "Execu\u00e7\u00e3o da valida\u00e7\u00e3o dos par\u00e2metros"
     ]
    },
    {
     "cell_type": "code",
     "collapsed": false,
     "input": [
      "resultados = []\n",
      "\n",
      "for qt_neuronios, lamb in combinacoes_de_parametros:\n",
      "    \n",
      "    _, _, _, v, _ = gradiente_descendente(X, T, qt_neuronios, lamb=lamb, n_treino=306, n_teste=100, n_validacao=100)\n",
      "    \n",
      "    resultados.append((qt_neuronios, lamb, np.min(v)))"
     ],
     "language": "python",
     "metadata": {},
     "outputs": [],
     "prompt_number": 89
    },
    {
     "cell_type": "code",
     "collapsed": false,
     "input": [
      "resultados = pd.DataFrame(resultados, columns=['neur\u00f4nios', 'lambda', 'min eqm'])"
     ],
     "language": "python",
     "metadata": {},
     "outputs": [],
     "prompt_number": 90
    },
    {
     "cell_type": "code",
     "collapsed": false,
     "input": [
      "resultados"
     ],
     "language": "python",
     "metadata": {},
     "outputs": [
      {
       "html": [
        "<div style=\"max-height:1000px;max-width:1500px;overflow:auto;\">\n",
        "<table border=\"1\" class=\"dataframe\">\n",
        "  <thead>\n",
        "    <tr style=\"text-align: right;\">\n",
        "      <th></th>\n",
        "      <th>neur\u00f4nios</th>\n",
        "      <th>lambda</th>\n",
        "      <th>min eqm</th>\n",
        "    </tr>\n",
        "  </thead>\n",
        "  <tbody>\n",
        "    <tr>\n",
        "      <th>0 </th>\n",
        "      <td> 20</td>\n",
        "      <td> 0.01</td>\n",
        "      <td> 1.386981</td>\n",
        "    </tr>\n",
        "    <tr>\n",
        "      <th>1 </th>\n",
        "      <td> 20</td>\n",
        "      <td> 0.05</td>\n",
        "      <td> 1.477725</td>\n",
        "    </tr>\n",
        "    <tr>\n",
        "      <th>2 </th>\n",
        "      <td> 20</td>\n",
        "      <td> 0.10</td>\n",
        "      <td> 2.182245</td>\n",
        "    </tr>\n",
        "    <tr>\n",
        "      <th>3 </th>\n",
        "      <td> 20</td>\n",
        "      <td> 0.50</td>\n",
        "      <td> 2.402812</td>\n",
        "    </tr>\n",
        "    <tr>\n",
        "      <th>4 </th>\n",
        "      <td> 40</td>\n",
        "      <td> 0.01</td>\n",
        "      <td> 2.176789</td>\n",
        "    </tr>\n",
        "    <tr>\n",
        "      <th>5 </th>\n",
        "      <td> 40</td>\n",
        "      <td> 0.05</td>\n",
        "      <td> 2.037012</td>\n",
        "    </tr>\n",
        "    <tr>\n",
        "      <th>6 </th>\n",
        "      <td> 40</td>\n",
        "      <td> 0.10</td>\n",
        "      <td> 1.508625</td>\n",
        "    </tr>\n",
        "    <tr>\n",
        "      <th>7 </th>\n",
        "      <td> 40</td>\n",
        "      <td> 0.50</td>\n",
        "      <td> 1.407114</td>\n",
        "    </tr>\n",
        "    <tr>\n",
        "      <th>8 </th>\n",
        "      <td> 60</td>\n",
        "      <td> 0.01</td>\n",
        "      <td> 1.573258</td>\n",
        "    </tr>\n",
        "    <tr>\n",
        "      <th>9 </th>\n",
        "      <td> 60</td>\n",
        "      <td> 0.05</td>\n",
        "      <td> 1.876490</td>\n",
        "    </tr>\n",
        "    <tr>\n",
        "      <th>10</th>\n",
        "      <td> 60</td>\n",
        "      <td> 0.10</td>\n",
        "      <td> 1.815945</td>\n",
        "    </tr>\n",
        "    <tr>\n",
        "      <th>11</th>\n",
        "      <td> 60</td>\n",
        "      <td> 0.50</td>\n",
        "      <td> 2.084122</td>\n",
        "    </tr>\n",
        "    <tr>\n",
        "      <th>12</th>\n",
        "      <td> 80</td>\n",
        "      <td> 0.01</td>\n",
        "      <td> 1.274667</td>\n",
        "    </tr>\n",
        "    <tr>\n",
        "      <th>13</th>\n",
        "      <td> 80</td>\n",
        "      <td> 0.05</td>\n",
        "      <td> 2.128421</td>\n",
        "    </tr>\n",
        "    <tr>\n",
        "      <th>14</th>\n",
        "      <td> 80</td>\n",
        "      <td> 0.10</td>\n",
        "      <td> 1.540695</td>\n",
        "    </tr>\n",
        "    <tr>\n",
        "      <th>15</th>\n",
        "      <td> 80</td>\n",
        "      <td> 0.50</td>\n",
        "      <td> 3.630421</td>\n",
        "    </tr>\n",
        "  </tbody>\n",
        "</table>\n",
        "</div>"
       ],
       "metadata": {},
       "output_type": "pyout",
       "prompt_number": 91,
       "text": [
        "    neur\u00f4nios  lambda   min eqm\n",
        "0          20    0.01  1.386981\n",
        "1          20    0.05  1.477725\n",
        "2          20    0.10  2.182245\n",
        "3          20    0.50  2.402812\n",
        "4          40    0.01  2.176789\n",
        "5          40    0.05  2.037012\n",
        "6          40    0.10  1.508625\n",
        "7          40    0.50  1.407114\n",
        "8          60    0.01  1.573258\n",
        "9          60    0.05  1.876490\n",
        "10         60    0.10  1.815945\n",
        "11         60    0.50  2.084122\n",
        "12         80    0.01  1.274667\n",
        "13         80    0.05  2.128421\n",
        "14         80    0.10  1.540695\n",
        "15         80    0.50  3.630421"
       ]
      }
     ],
     "prompt_number": 91
    },
    {
     "cell_type": "heading",
     "level": 4,
     "metadata": {},
     "source": [
      "Escolhemos ent\u00e3o os par\u00e2metros n\u00famero de neur\u00f4nios = 80 e lambda = 0.01"
     ]
    },
    {
     "cell_type": "code",
     "collapsed": false,
     "input": [
      "h, o, t, v, eqm_teste = gradiente_descendente(X, T, 80, lamb=.01, apenas_epocas=True, max_epocas=100, n_treino=306, n_teste=100, n_validacao=100)"
     ],
     "language": "python",
     "metadata": {},
     "outputs": [],
     "prompt_number": 93
    },
    {
     "cell_type": "heading",
     "level": 4,
     "metadata": {},
     "source": [
      "EQM para o conjunto de testes"
     ]
    },
    {
     "cell_type": "code",
     "collapsed": false,
     "input": [
      "eqm_teste"
     ],
     "language": "python",
     "metadata": {},
     "outputs": [
      {
       "metadata": {},
       "output_type": "pyout",
       "prompt_number": 94,
       "text": [
        "1.6645576488088998"
       ]
      }
     ],
     "prompt_number": 94
    },
    {
     "cell_type": "heading",
     "level": 4,
     "metadata": {},
     "source": [
      "Gr\u00e1fico \u00e9poca x eqm treino"
     ]
    },
    {
     "cell_type": "code",
     "collapsed": false,
     "input": [
      "eqm_treino = np.array([x[0] for x in t])\n",
      "pl.plot(np.arange(0, len(eqm_treino), 1), eqm_treino)"
     ],
     "language": "python",
     "metadata": {},
     "outputs": [
      {
       "metadata": {},
       "output_type": "pyout",
       "prompt_number": 95,
       "text": [
        "[<matplotlib.lines.Line2D at 0x5351f50>]"
       ]
      },
      {
       "metadata": {},
       "output_type": "display_data",
       "png": "[encoded data removed]",
       "text": [
        "<matplotlib.figure.Figure at 0x3362850>"
       ]
      }
     ],
     "prompt_number": 95
    },
    {
     "cell_type": "heading",
     "level": 4,
     "metadata": {},
     "source": [
      "Gr\u00e1fico \u00e9poca x eqm valida\u00e7\u00e3o"
     ]
    },
    {
     "cell_type": "code",
     "collapsed": false,
     "input": [
      "pl.plot(np.arange(0, len(v), 1), v)"
     ],
     "language": "python",
     "metadata": {},
     "outputs": [
      {
       "metadata": {},
       "output_type": "pyout",
       "prompt_number": 96,
       "text": [
        "[<matplotlib.lines.Line2D at 0x5384650>]"
       ]
      },
      {
       "metadata": {},
       "output_type": "display_data",
       "png": "[encoded data removed]",
       "text": [
        "<matplotlib.figure.Figure at 0x534fb50>"
       ]
      }
     ],
     "prompt_number": 96
    },
    {
     "cell_type": "heading",
     "level": 4,
     "metadata": {},
     "source": [
      "Coment\u00e1rio"
     ]
    },
    {
     "cell_type": "markdown",
     "metadata": {},
     "source": [
      "Novamente, o gr\u00e1fico \u00e9poca x eqm treino indica aprendizagem. \n",
      "Achei deveras estranho essas oscila\u00e7\u00f5es...Chego a desconfiar da minha implementa\u00e7\u00e3o, visto que acredito que o comportamento do erro pro training-set de um modelo treinado com o gradiente descendente devesse ser monot\u00f4nico. Mas foi utilizada a vers\u00e3o estoc\u00e1stica, talvez esta seja a explica\u00e7\u00e3o. A verificar."
     ]
    },
    {
     "cell_type": "heading",
     "level": 4,
     "metadata": {},
     "source": [
      "Gr\u00e1fico dos pre\u00e7os para o conjunto de dados"
     ]
    },
    {
     "cell_type": "code",
     "collapsed": false,
     "input": [
      "predicao, _ = output_rede(h, o, X.T)"
     ],
     "language": "python",
     "metadata": {},
     "outputs": [],
     "prompt_number": 98
    },
    {
     "cell_type": "code",
     "collapsed": false,
     "input": [
      "T.shape"
     ],
     "language": "python",
     "metadata": {},
     "outputs": [
      {
       "metadata": {},
       "output_type": "pyout",
       "prompt_number": 105,
       "text": [
        "(506, 1)"
       ]
      }
     ],
     "prompt_number": 105
    },
    {
     "cell_type": "code",
     "collapsed": false,
     "input": [
      "x = np.arange(0, len(T), 1)\n",
      "pl.scatter(x, T, c='b')\n",
      "pl.scatter(x, predicao, c='r')"
     ],
     "language": "python",
     "metadata": {},
     "outputs": [
      {
       "metadata": {},
       "output_type": "pyout",
       "prompt_number": 102,
       "text": [
        "<matplotlib.collections.PathCollection at 0xcc57b50>"
       ]
      },
      {
       "metadata": {},
       "output_type": "display_data",
       "png": "[encoded data removed]",
       "text": [
        "<matplotlib.figure.Figure at 0xcc57ad0>"
       ]
      }
     ],
     "prompt_number": 102
    },
    {
     "cell_type": "code",
     "collapsed": false,
     "input": [
      "pl.scatter(x, np.sort(np.abs(T - predicao.T), axis=0))"
     ],
     "language": "python",
     "metadata": {},
     "outputs": [
      {
       "metadata": {},
       "output_type": "pyout",
       "prompt_number": 117,
       "text": [
        "<matplotlib.collections.PathCollection at 0xcafdb10>"
       ]
      },
      {
       "metadata": {},
       "output_type": "display_data",
       "png": "[encoded data removed]",
       "text": [
        "<matplotlib.figure.Figure at 0xea45fd0>"
       ]
      }
     ],
     "prompt_number": 117
    },
    {
     "cell_type": "markdown",
     "metadata": {},
     "source": [
      "Pelo scatter dos pre\u00e7os, pode-se perceber que o modelo n\u00e3o realizou uma boa generaliza\u00e7\u00e3o, obtendo bons resultados apenas quando h\u00e1 bastante exemplos similares(no gr\u00e1fico percebe-se pela densidade de pontos por regi\u00e3o horizontal, sendo a regi\u00e3o entre 0.2 e 0.6 a de maior densidade).\n",
      "J\u00e1 pelo segundo gr\u00e1fico, percebe-se que a maior parte dos erros(aproximadamente 450) s\u00e3o de dimens\u00e3o entre 0% e 20%.\n",
      "O modelo parece estar aprendendo, mas tamb\u00e9m parece ter muito por aprender ainda. N\u00e3o s\u00f3 ele, como quem o implementou hehe\n",
      "Vou continuar evoluindo o trabalho, acredito haver ou erros ou comportamentos dos modelos que ainda n\u00e3o sei explicar, como \u00e9 o caso da oscila\u00e7\u00e3o no gr\u00e1fico de \u00e9pocas x eqm treino."
     ]
    }
   ],
   "metadata": {}
  }
 ]
}