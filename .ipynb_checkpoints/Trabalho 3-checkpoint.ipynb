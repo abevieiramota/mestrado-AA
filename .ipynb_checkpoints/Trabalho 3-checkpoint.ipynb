{
 "metadata": {
  "name": ""
 },
 "nbformat": 3,
 "nbformat_minor": 0,
 "worksheets": [
  {
   "cells": [
    {
     "cell_type": "heading",
     "level": 1,
     "metadata": {},
     "source": [
      "Imports"
     ]
    },
    {
     "cell_type": "code",
     "collapsed": false,
     "input": [
      "import warnings\n",
      "warnings.filterwarnings('ignore')\n",
      "# biblioteca para sistema operacional\n",
      "import os\n",
      "# biblioteca para plots\n",
      "from matplotlib import pyplot as pl\n",
      "# biblioteca para dados estruturados\n",
      "import pandas as pd\n",
      "# biblioteca para manipula\u00e7\u00e3o de arrays\n",
      "import numpy as np\n",
      "# fun\u00e7\u00e3o para gera\u00e7\u00e3o de arrays c\u00edclicos\n",
      "from itertools import cycle\n",
      "# random\n",
      "import random\n",
      "import scipy.io\n",
      "from itertools import repeat"
     ],
     "language": "python",
     "metadata": {},
     "outputs": [],
     "prompt_number": 1
    },
    {
     "cell_type": "heading",
     "level": 1,
     "metadata": {},
     "source": [
      "Constantes"
     ]
    },
    {
     "cell_type": "code",
     "collapsed": false,
     "input": [
      "# pasta com os dados\n",
      "PATH_DADOS = \"Dados Exercicio 3\"\n",
      "\n",
      "# constantes da quest\u00e3o 1\n",
      "\n",
      "Q1_FILEPATH = os.path.join(PATH_DADOS, \"ex3data1.mat\")\n",
      "Q2_FILEPATH = os.path.join(PATH_DADOS, \"ex3data2.data\")"
     ],
     "language": "python",
     "metadata": {},
     "outputs": [],
     "prompt_number": 2
    },
    {
     "cell_type": "heading",
     "level": 1,
     "metadata": {},
     "source": [
      "Fun\u00e7\u00f5es"
     ]
    },
    {
     "cell_type": "code",
     "collapsed": false,
     "input": [
      "# recebe um vetor x de dimens\u00e3o (n, d, d) e um vetor y de dimens\u00e3o (n, c)\n",
      "def visualizar_imgs(X, T):\n",
      "    \n",
      "    n = X.shape[0]\n",
      "    \n",
      "    d_n = floor(sqrt(n))+1\n",
      "    \n",
      "    fig = pl.figure(figsize=(d_n,d_n))\n",
      "    \n",
      "    fig.subplots_adjust(left=0, right=1, bottom=0, top=1, hspace=0.05, wspace=0.05)\n",
      "    \n",
      "    for i in xrange(n):\n",
      "        \n",
      "        ax = fig.add_subplot(d_n, d_n, i+1, xticks=[], yticks=[])\n",
      "        ax.imshow(X[i], cmap=pl.cm.binary)\n",
      "        \n",
      "        ax.text(0, 18, str(T[i].argmax()))\n",
      "        \n",
      "def output_rede(hidden, output, x):\n",
      "    \n",
      "    y_hidden = np.dot(x, hidden)\n",
      "    sigma_hidden = 1./(1. + np.exp(-1.*y_hidden))\n",
      "    \n",
      "#     y_output = np.dot(y_hidden, output)\n",
      "    y_output = np.dot(sigma_hidden, output)\n",
      "    sigma_output = 1./(1. + np.exp(-1.*y_output))\n",
      "    \n",
      "    return sigma_output, sigma_hidden\n",
      "#     return y_output, y_hidden\n",
      "\n",
      "def eqm(esperados, retornados):\n",
      "    \n",
      "    if esperados.ndim > 1:\n",
      "        esperados = np.apply_along_axis(lambda x: x.argmax(), 1, esperados)\n",
      "        retornados = np.apply_along_axis(lambda x: x.argmax(), 1, retornados)\n",
      "    \n",
      "    return .5*np.sum((esperados - retornados)**2)    \n",
      "\n",
      "def indices_random(ns):\n",
      "    \n",
      "    n = np.sum(ns)\n",
      "    i_ns = np.cumsum(ns)\n",
      "    \n",
      "    indices_random = np.random.permutation(np.arange(0, n, 1))\n",
      "    \n",
      "    return np.array_split(indices_random, i_ns)[:-1]    "
     ],
     "language": "python",
     "metadata": {},
     "outputs": [],
     "prompt_number": 54
    },
    {
     "cell_type": "code",
     "collapsed": false,
     "input": [
      "eqm(np.array([[1, 0],[2, 0]]), np.array([[1, 0],[2, 1]]))"
     ],
     "language": "python",
     "metadata": {},
     "outputs": [
      {
       "metadata": {},
       "output_type": "pyout",
       "prompt_number": 92,
       "text": [
        "0.0"
       ]
      }
     ],
     "prompt_number": 92
    },
    {
     "cell_type": "heading",
     "level": 1,
     "metadata": {},
     "source": [
      "Quest\u00e3o 1"
     ]
    },
    {
     "cell_type": "heading",
     "level": 3,
     "metadata": {},
     "source": [
      "Carregamento dos dados"
     ]
    },
    {
     "cell_type": "code",
     "collapsed": false,
     "input": [
      "dados_mat = scipy.io.loadmat(Q1_FILEPATH)"
     ],
     "language": "python",
     "metadata": {},
     "outputs": [],
     "prompt_number": 4
    },
    {
     "cell_type": "code",
     "collapsed": false,
     "input": [
      "T = np.array(dados_mat['T'])\n",
      "X = np.array(dados_mat['X'])"
     ],
     "language": "python",
     "metadata": {},
     "outputs": [],
     "prompt_number": 5
    },
    {
     "cell_type": "heading",
     "level": 3,
     "metadata": {},
     "source": [
      "Pesos"
     ]
    },
    {
     "cell_type": "heading",
     "level": 1,
     "metadata": {},
     "source": [
      "Gradiente Descendente"
     ]
    },
    {
     "cell_type": "code",
     "collapsed": false,
     "input": [
      "def gradiente_descendente(X, T, n_hidden, lamb=.01, w_inicial=.05, n_treino=4000, n_validacao=500, n_teste=500, max_epocas=100):\n",
      "    \n",
      "    # c\u00e1lculo do n\u00famero de exemplos\n",
      "    n = X.shape[0]\n",
      "    \n",
      "    # c\u00e1lculo do tamanho de entrada e sa\u00edda\n",
      "    n_input = X.shape[1]\n",
      "    n_output = T.shape[1]\n",
      "    \n",
      "    # erro de valida\u00e7\u00e3o inicial - utilizado como condi\u00e7\u00e3o de parada\n",
      "    eqm_validacao_anterior = 2**20\n",
      "    eqm_validacao = 2**20 - 1\n",
      "    \n",
      "    # inicializa\u00e7\u00e3o da rede\n",
      "    hidden = np.fromiter(repeat(w_inicial, n_input*n_hidden), dtype=np.float).reshape((n_input, n_hidden))\n",
      "    output = np.fromiter(repeat(w_inicial, n_hidden*n_output), dtype=np.float).reshape((n_hidden, n_output))\n",
      "    \n",
      "    # parti\u00e7\u00e3o em conjuntos de treinamento, valida\u00e7\u00e3o e teste\n",
      "    indices_treino, indices_validacao, indices_teste = indices_random([n_treino, n_validacao, n_teste])\n",
      "    \n",
      "    X_treino = np.take(X, indices_treino, axis=0)\n",
      "    X_validacao = np.take(X, indices_validacao, axis=0)\n",
      "    X_teste = np.take(X, indices_teste, axis=0)\n",
      "    \n",
      "    T_treino = np.take(T, indices_treino, axis=0)\n",
      "    T_validacao = np.take(T, indices_validacao, axis=0)\n",
      "    T_teste = np.take(T, indices_teste, axis=0)\n",
      "    \n",
      "    eqms_validacao = []\n",
      "    eqms_treino = []\n",
      "    \n",
      "    while eqm_validacao <= eqm_validacao_anterior and len(eqms_validacao) < max_epocas:\n",
      "        \n",
      "        # TODO: randomizar o X e o T\n",
      "        for i in xrange(n_treino):\n",
      "            \n",
      "            x = X_treino[i]\n",
      "            t = T_treino[i]\n",
      "            \n",
      "            # execu\u00e7\u00e3o da rede\n",
      "            y, y_hidden = output_rede(hidden, output, x)\n",
      "            \n",
      "            # erro da camada output\n",
      "            e_output = y*(1. - y)*(t - y)\n",
      "            \n",
      "            # erro na camada hidden\n",
      "            e_hidden = y_hidden*(1. - y_hidden)*np.sum(np.dot(e_output, output))\n",
      "            \n",
      "            # atualiza\u00e7\u00e3o dos pesos\n",
      "            e_hidden_mesh, x_mesh = np.meshgrid(e_hidden, x)\n",
      "            hidden = hidden + lamb*(e_hidden_mesh*x_mesh)\n",
      "            \n",
      "            e_output_mesh, y_hidden_mesh = np.meshgrid(e_output, y_hidden)\n",
      "            output = output + lamb*(e_output_mesh*y_hidden_mesh)\n",
      "            \n",
      "        # c\u00e1lculo dos erros pros conjuntos\n",
      "        y_treino, _ = output_rede(hidden, output, X_treino)\n",
      "        eqm_treino = eqm(T_treino, y_treino)\n",
      "        eqms_treino.append([eqm_treino, hidden, output])\n",
      "        \n",
      "        y_validacao, _ = output_rede(hidden, output, X_validacao)\n",
      "        eqm_validacao_anterior = eqm_validacao\n",
      "        eqm_validacao = eqm(T_validacao, y_validacao)\n",
      "        eqms_validacao.append(eqm_validacao)\n",
      "        \n",
      "    return hidden, output, eqms_treino, eqms_validacao"
     ],
     "language": "python",
     "metadata": {},
     "outputs": [],
     "prompt_number": 70
    },
    {
     "cell_type": "code",
     "collapsed": false,
     "input": [
      "h, o, t, v = gradiente_descendente(X, T, 10, w_inicial=.1, max_epocas=10)"
     ],
     "language": "python",
     "metadata": {},
     "outputs": [],
     "prompt_number": 85
    },
    {
     "cell_type": "code",
     "collapsed": false,
     "input": [
      "tt = np.array([x[0] for x in t])"
     ],
     "language": "python",
     "metadata": {},
     "outputs": [],
     "prompt_number": 86
    },
    {
     "cell_type": "code",
     "collapsed": false,
     "input": [
      "np.unique(v)"
     ],
     "language": "python",
     "metadata": {},
     "outputs": [
      {
       "metadata": {},
       "output_type": "pyout",
       "prompt_number": 88,
       "text": [
        "array([ 5161.5])"
       ]
      }
     ],
     "prompt_number": 88
    },
    {
     "cell_type": "code",
     "collapsed": false,
     "input": [],
     "language": "python",
     "metadata": {},
     "outputs": []
    }
   ],
   "metadata": {}
  }
 ]
}