{
 "metadata": {
  "name": ""
 },
 "nbformat": 3,
 "nbformat_minor": 0,
 "worksheets": [
  {
   "cells": [
    {
     "cell_type": "heading",
     "level": 1,
     "metadata": {},
     "source": [
      "Fun\u00e7\u00e3o para carregamento de dados"
     ]
    },
    {
     "cell_type": "raw",
     "metadata": {},
     "source": [
      "Fun\u00e7\u00e3o que carrega os dados dos arquivos, retornando dois arrays, um contendo as n-1 primeiras colunas e outro com a n-\u00e9sima coluna."
     ]
    },
    {
     "cell_type": "code",
     "collapsed": false,
     "input": [
      "PATH_DADOS = \"Dados Exercicio 1\"\n",
      "FILENAMES = [\"ex1data1.txt\", \"ex1data2.txt\", \"ex1data3.txt\"]\n",
      "\n",
      "\n",
      "def carregar(filename, delimiter=\" \"):\n",
      "    import csv\n",
      "    import os\n",
      "    \n",
      "    reader = csv.reader(open(os.path.join(PATH_DADOS, filename)), delimiter=delimiter)\n",
      "    \n",
      "    values_X = []\n",
      "    values_Y = []\n",
      "\n",
      "    for row in reader:\n",
      "        values_X.append([float(x) for x in row[:-1]])\n",
      "        values_Y.append(float(row[-1]))\n",
      "    \n",
      "    import numpy as np\n",
      "\n",
      "    return np.array(values_X), np.array(values_Y)"
     ],
     "language": "python",
     "metadata": {},
     "outputs": [],
     "prompt_number": 2
    },
    {
     "cell_type": "heading",
     "level": 1,
     "metadata": {},
     "source": [
      "Fun\u00e7\u00e3o para plotar o gr\u00e1fico com duas dimens\u00f5es"
     ]
    },
    {
     "cell_type": "code",
     "collapsed": false,
     "input": [
      "def plot2d(X, Y, color=None):\n",
      "    from matplotlib import pyplot as pl\n",
      "        \n",
      "    line = pl.plot(X, Y)\n",
      "    if not color is None:\n",
      "        pyplot.setp(line, color=color)\n",
      "\n",
      "def scatter2d(X, Y):\n",
      "    from matplotlib import pyplot as pl\n",
      "    \n",
      "    pl.scatter(X, Y)"
     ],
     "language": "python",
     "metadata": {},
     "outputs": [],
     "prompt_number": 3
    },
    {
     "cell_type": "heading",
     "level": 1,
     "metadata": {},
     "source": [
      "Quest\u00e3o 1"
     ]
    },
    {
     "cell_type": "heading",
     "level": 4,
     "metadata": {},
     "source": [
      "Figura com os dados"
     ]
    },
    {
     "cell_type": "code",
     "collapsed": false,
     "input": [
      "X, Y = carregar(FILENAMES[0])\n",
      "scatter2d(X, Y)"
     ],
     "language": "python",
     "metadata": {},
     "outputs": [
      {
       "metadata": {},
       "output_type": "display_data",
       "png": "[encoded data removed]",
       "text": [
        "<matplotlib.figure.Figure at 0x425d790>"
       ]
      }
     ],
     "prompt_number": 4
    },
    {
     "cell_type": "heading",
     "level": 4,
     "metadata": {},
     "source": [
      "Coment\u00e1rios: Um modelo de regress\u00e3o linear parece ser \n",
      "\n",
      "adequado para os dados em quest\u00e3o? Comente."
     ]
    },
    {
     "cell_type": "raw",
     "metadata": {},
     "source": [
      "Essa quest\u00e3o s\u00f3 pode ser respondida a partir da defini\u00e7\u00e3o de \"adequado\". Ela envolve aspectos como a precis\u00e3o que se deseja alcan\u00e7ar com o modelo e qu\u00e3o pr\u00f3ximo dos dados de treinamento espera-se que os dados a serem predizidos sejam.\n",
      "Pelo gr\u00e1fico, os dados n\u00e3o parecem possuir uma boa aproxima\u00e7\u00e3o por uma reta, por possuir, para valores pr\u00f3ximos de x, varia\u00e7\u00f5es n\u00e3o monot\u00f4nicas de y."
     ]
    },
    {
     "cell_type": "heading",
     "level": 4,
     "metadata": {},
     "source": [
      "- Implemente o algoritmo do gradiente descendente estoc\u00e1stico para \n",
      "\n",
      "encontrar os coeficientes da regress\u00e3o."
     ]
    },
    {
     "cell_type": "code",
     "collapsed": false,
     "input": [
      "# retorna o EQM, a m\u00e9dia dos erros e a m\u00e9dia dos erros pelos x's\n",
      "def eqm(x, gerado, esperado):\n",
      "    resultado = 0.\n",
      "    \n",
      "    for g, e in zip(gerado, esperado):\n",
      "        erro = g - e\n",
      "        erro_quadrado = erro**2\n",
      "        \n",
      "        resultado += erro_quadrado\n",
      "        \n",
      "    resultado /= len(gerado)\n",
      "    \n",
      "    return resultado\n",
      "\n",
      "def eq_1grau(ws, xs):\n",
      "    \n",
      "    return ws[0] + sum((ws[i+1]*xs[i] for i in xrange(len(xs))))\n",
      "    \n",
      "\n",
      "def grad_desc_estoq(X, Y, alfa=0.1, epocas=100, ws=None, plot=False):\n",
      "    # infere a quantidade de features\n",
      "    NUM_FEATURES = len(X[0])\n",
      "    \n",
      "    # valores randomicos para w0 e w1\n",
      "    if ws is None:\n",
      "        ws = [random.uniform(1,10) for _ in xrange(NUM_FEATURES+1)]\n",
      "    \n",
      "    eqms = []\n",
      "    \n",
      "    # percorre os valores de x e y\n",
      "    from itertools import cycle\n",
      "    xs = cycle(X)\n",
      "    ys = cycle(Y)\n",
      "    \n",
      "    for epoca, x, y in zip(xrange(epocas), xs, ys):\n",
      "        # calcula as predi\u00e7\u00f5es para os dados de treinamento\n",
      "        predicao = [eq_1grau(ws, elem) for elem in X]\n",
      "        \n",
      "        # calcula o eqm\n",
      "        eqms.append(eqm(X, predicao, Y))\n",
      "        \n",
      "        # erro da itera\u00e7\u00e3o\n",
      "        erro = y - eq_1grau(ws, x)\n",
      "        # atualiza os pesos\n",
      "        ws[0] += alfa*erro\n",
      "        for i in xrange(len(ws[1:])):\n",
      "            ws[i+1] += alfa*erro*x[i]\n",
      "        \n",
      "    if plot:\n",
      "        scatter2d(X, Y)\n",
      "        plot2d(X, [eq_1grau(ws, x) for x in X], color=\"r\")\n",
      "        \n",
      "    return ws, eqms\n",
      "    "
     ],
     "language": "python",
     "metadata": {},
     "outputs": [],
     "prompt_number": 5
    },
    {
     "cell_type": "heading",
     "level": 4,
     "metadata": {},
     "source": [
      "C\u00e1lculo dos pesos e dos EQMs"
     ]
    },
    {
     "cell_type": "code",
     "collapsed": false,
     "input": [
      "ws, eqms = grad_desc_estoq(X, Y, alfa=0.001, epocas=1000, plot=True)"
     ],
     "language": "python",
     "metadata": {},
     "outputs": [
      {
       "metadata": {},
       "output_type": "display_data",
       "png": "[encoded data removed]",
       "text": [
        "<matplotlib.figure.Figure at 0x42019d0>"
       ]
      }
     ],
     "prompt_number": 6
    },
    {
     "cell_type": "heading",
     "level": 4,
     "metadata": {},
     "source": [
      "Plot do gr\u00e1fico de EQM por \u00e9poca"
     ]
    },
    {
     "cell_type": "code",
     "collapsed": false,
     "input": [
      "plot2d(xrange(len(eqms)), eqms)"
     ],
     "language": "python",
     "metadata": {},
     "outputs": [
      {
       "metadata": {},
       "output_type": "display_data",
       "png": "[encoded data removed]",
       "text": [
        "<matplotlib.figure.Figure at 0x4296fd0>"
       ]
      }
     ],
     "prompt_number": 7
    },
    {
     "cell_type": "heading",
     "level": 4,
     "metadata": {},
     "source": [
      "Valor final dos coeficientes"
     ]
    },
    {
     "cell_type": "code",
     "collapsed": false,
     "input": [
      "print ws"
     ],
     "language": "python",
     "metadata": {},
     "outputs": [
      {
       "output_type": "stream",
       "stream": "stdout",
       "text": [
        "[3.6863524229141609, 0.80498902805884576]\n"
       ]
      }
     ],
     "prompt_number": 8
    },
    {
     "cell_type": "heading",
     "level": 4,
     "metadata": {},
     "source": [
      "Coment\u00e1rios: Atrav\u00e9s do gr\u00e1fico \u201c\u00e9pocas x EQM\u201d \u00e9 poss\u00edvel \n",
      "\n",
      "verificar que o algoritmo est\u00e1 \u201caprendendo\u201d ? Comente."
     ]
    },
    {
     "cell_type": "raw",
     "metadata": {},
     "source": [
      "Considerando que uma diminui\u00e7\u00e3o dos erros do modelo em predi\u00e7\u00f5es sobre dados do training-set representam aprendizado, pode-se sim afirmar que o  algoritmo est\u00e1 \"aprendendo\".\n",
      "Podemos pensar cada \u00e9poca de treinamento como um incremento no aprendizado."
     ]
    },
    {
     "cell_type": "heading",
     "level": 4,
     "metadata": {},
     "source": [
      "Exemplo de utiliza\u00e7\u00e3o da fun\u00e7\u00e3o, para um conjunto de dados simples(fun\u00e7\u00e3o 2*x)"
     ]
    },
    {
     "cell_type": "code",
     "collapsed": false,
     "input": [
      "ws, eqms = grad_desc_estoq([[x] for x in xrange(40)], [2*x for x in xrange(40)], alfa=0.001, epocas=1000, plot=True)"
     ],
     "language": "python",
     "metadata": {},
     "outputs": [
      {
       "metadata": {},
       "output_type": "display_data",
       "png": "[encoded data removed]",
       "text": [
        "<matplotlib.figure.Figure at 0x41cc590>"
       ]
      }
     ],
     "prompt_number": 9
    },
    {
     "cell_type": "code",
     "collapsed": false,
     "input": [
      "plot2d(xrange(len(eqms)), eqms)"
     ],
     "language": "python",
     "metadata": {},
     "outputs": [
      {
       "metadata": {},
       "output_type": "display_data",
       "png": "[encoded data removed]",
       "text": [
        "<matplotlib.figure.Figure at 0x41f8390>"
       ]
      }
     ],
     "prompt_number": 10
    },
    {
     "cell_type": "heading",
     "level": 4,
     "metadata": {},
     "source": [
      "Utilizando o modelo do scikit-learn"
     ]
    },
    {
     "cell_type": "code",
     "collapsed": false,
     "input": [
      "from sklearn import linear_model\n",
      "clf = linear_model.LinearRegression()\n",
      "clf.fit([[x] for x in xrange(20)], [x*2 + 4 for x in xrange(20)])\n",
      "\n",
      "print clf.coef_"
     ],
     "language": "python",
     "metadata": {},
     "outputs": [
      {
       "output_type": "stream",
       "stream": "stdout",
       "text": [
        "[ 2.]\n"
       ]
      }
     ],
     "prompt_number": 11
    },
    {
     "cell_type": "heading",
     "level": 1,
     "metadata": {},
     "source": [
      "Quest\u00e3o 2"
     ]
    },
    {
     "cell_type": "code",
     "collapsed": false,
     "input": [
      "X, Y = carregar(FILENAMES[1])"
     ],
     "language": "python",
     "metadata": {},
     "outputs": [],
     "prompt_number": 12
    },
    {
     "cell_type": "heading",
     "level": 4,
     "metadata": {},
     "source": [
      "Gr\u00e1fico do Y pela feature 1"
     ]
    },
    {
     "cell_type": "code",
     "collapsed": false,
     "input": [
      "scatter2d(X[:, 0], Y)"
     ],
     "language": "python",
     "metadata": {},
     "outputs": [
      {
       "metadata": {},
       "output_type": "display_data",
       "png": "[encoded data removed]",
       "text": [
        "<matplotlib.figure.Figure at 0x421f3d0>"
       ]
      }
     ],
     "prompt_number": 13
    },
    {
     "cell_type": "heading",
     "level": 4,
     "metadata": {},
     "source": [
      "Gr\u00e1fico do Y pela feature 2"
     ]
    },
    {
     "cell_type": "code",
     "collapsed": false,
     "input": [
      "scatter2d(X[:, 1], Y)"
     ],
     "language": "python",
     "metadata": {},
     "outputs": [
      {
       "metadata": {},
       "output_type": "display_data",
       "png": "[encoded data removed]",
       "text": [
        "<matplotlib.figure.Figure at 0x4223790>"
       ]
      }
     ],
     "prompt_number": 14
    },
    {
     "cell_type": "heading",
     "level": 4,
     "metadata": {},
     "source": [
      "Execu\u00e7\u00e3o do gradiente descendente estoc\u00e1stico"
     ]
    },
    {
     "cell_type": "code",
     "collapsed": false,
     "input": [
      "ws, eqms = grad_desc_estoq(X, Y, alfa=0.01, epocas=100)"
     ],
     "language": "python",
     "metadata": {},
     "outputs": [],
     "prompt_number": 15
    },
    {
     "cell_type": "heading",
     "level": 4,
     "metadata": {},
     "source": [
      "Plot do gr\u00e1fico de EQM por \u00e9poca"
     ]
    },
    {
     "cell_type": "code",
     "collapsed": false,
     "input": [
      "plot2d(xrange(len(eqms)), eqms)"
     ],
     "language": "python",
     "metadata": {},
     "outputs": [
      {
       "metadata": {},
       "output_type": "display_data",
       "png": "[encoded data removed]",
       "text": [
        "<matplotlib.figure.Figure at 0x50a43d0>"
       ]
      }
     ],
     "prompt_number": 16
    },
    {
     "cell_type": "heading",
     "level": 4,
     "metadata": {},
     "source": [
      "Coeficientes"
     ]
    },
    {
     "cell_type": "code",
     "collapsed": false,
     "input": [
      "print ws"
     ],
     "language": "python",
     "metadata": {},
     "outputs": [
      {
       "output_type": "stream",
       "stream": "stdout",
       "text": [
        "[3.6403240678841104, -1.5596197096829993, 0.94383517412141871]\n"
       ]
      }
     ],
     "prompt_number": 17
    },
    {
     "cell_type": "heading",
     "level": 4,
     "metadata": {},
     "source": [
      "Coment\u00e1rios: Atrav\u00e9s do gr\u00e1fico \u201c\u00e9pocas x EQM\u201d \u00e9 poss\u00edvel \n",
      "\n",
      "verificar que o algoritmo est\u00e1 \u201caprendendo\u201d ? Comente."
     ]
    },
    {
     "cell_type": "raw",
     "metadata": {},
     "source": [
      "Mesma resposta para a mesma pergunta da quest\u00e3o 1."
     ]
    },
    {
     "cell_type": "heading",
     "level": 4,
     "metadata": {},
     "source": [
      "Regress\u00e3o com o m\u00e9todo dos m\u00ednimos quadrados"
     ]
    },
    {
     "cell_type": "code",
     "collapsed": false,
     "input": [
      "def add_ones_left(X):\n",
      "    X_com_1s = np.ones((X.shape[0], X.shape[1]+1))\n",
      "    X_com_1s[:, 1:] = X\n",
      "    \n",
      "    return X_com_1s\n",
      "    \n",
      "def lsm(X, Y):\n",
      "    import numpy as np\n",
      "    \n",
      "    # 1s da coluna do peso w0\n",
      "    X_com_1s = add_ones_left(X)\n",
      "    \n",
      "    Xt = np.transpose(X_com_1s)\n",
      "    Xt_dot_X = np.dot(Xt, X_com_1s)\n",
      "    Xt_dot_X_inv = np.linalg.solve(Xt_dot_X, np.identity(len(Xt_dot_X)))\n",
      "    Xt_dot_X_inv_Xt = np.dot(Xt_dot_X_inv, Xt)\n",
      "    return np.dot(Xt_dot_X_inv_Xt, Y)"
     ],
     "language": "python",
     "metadata": {},
     "outputs": [],
     "prompt_number": 18
    },
    {
     "cell_type": "heading",
     "level": 4,
     "metadata": {},
     "source": [
      "- Encontre os coeficientes da regress\u00e3o utilizando o m\u00e9todo dos \n",
      "\n",
      "m\u00ednimos quadrados."
     ]
    },
    {
     "cell_type": "code",
     "collapsed": false,
     "input": [
      "lsm(X, Y)"
     ],
     "language": "python",
     "metadata": {},
     "outputs": [
      {
       "metadata": {},
       "output_type": "pyout",
       "prompt_number": 19,
       "text": [
        "array([ 0.8959791 ,  1.39210674, -0.08738019])"
       ]
      }
     ],
     "prompt_number": 19
    },
    {
     "cell_type": "heading",
     "level": 4,
     "metadata": {},
     "source": [
      "Utilizando o modelo do scikit-learn"
     ]
    },
    {
     "cell_type": "code",
     "collapsed": false,
     "input": [
      "from sklearn import linear_model\n",
      "clf = linear_model.LinearRegression()\n",
      "clf.fit(add_ones_left(X), Y)\n",
      "\n",
      "print clf.coef_"
     ],
     "language": "python",
     "metadata": {},
     "outputs": [
      {
       "output_type": "stream",
       "stream": "stdout",
       "text": [
        "[ 0.          1.39210674 -0.08738019]\n"
       ]
      }
     ],
     "prompt_number": 20
    },
    {
     "cell_type": "heading",
     "level": 4,
     "metadata": {},
     "source": [
      "Coment\u00e1rios: Os valores obtidos pelos dois m\u00e9todos s\u00e3o iguais? \n",
      "\n",
      "Comente."
     ]
    },
    {
     "cell_type": "raw",
     "metadata": {},
     "source": [
      "N\u00e3o. #TODO"
     ]
    },
    {
     "cell_type": "heading",
     "level": 1,
     "metadata": {},
     "source": [
      "Quest\u00e3o 3"
     ]
    },
    {
     "cell_type": "code",
     "collapsed": false,
     "input": [
      "X, Y = carregar(FILENAMES[2])"
     ],
     "language": "python",
     "metadata": {},
     "outputs": [],
     "prompt_number": 21
    },
    {
     "cell_type": "heading",
     "level": 4,
     "metadata": {},
     "source": [
      "Divis\u00e3o dos dados em training-set e test-set"
     ]
    },
    {
     "cell_type": "code",
     "collapsed": false,
     "input": [
      "X_training = X[:30]\n",
      "Y_training = Y[:30]\n",
      "\n",
      "X_test = X[30:]\n",
      "Y_test = Y[30:]"
     ],
     "language": "python",
     "metadata": {},
     "outputs": [],
     "prompt_number": 23
    },
    {
     "cell_type": "heading",
     "level": 4,
     "metadata": {},
     "source": [
      "- Encontre os coeficientes da regress\u00e3o utilizando o m\u00e9todo dos \n",
      "\n",
      "m\u00ednimos quadrados regularizado para os seguintes valores de \u03bb = [0 1 2 3 4 \n",
      "\n",
      "5]. Utilize o conjunto de treinamento."
     ]
    },
    {
     "cell_type": "code",
     "collapsed": false,
     "input": [
      "def lsm_regularizado(X, Y, lamb=0):\n",
      "    import numpy as np\n",
      "    \n",
      "    # 1s da coluna do peso w0\n",
      "    X_com_1s = add_ones_left(X)\n",
      "    \n",
      "    Xt = np.transpose(X_com_1s)\n",
      "    Xt_dot_X = np.dot(Xt, X_com_1s)\n",
      "    Xt_dot_X_inv = np.linalg.solve(Xt_dot_X, np.identity(len(Xt_dot_X)))\n",
      "    Xt_dot_X_inv_Xt = np.dot(Xt_dot_X_inv, Xt)\n",
      "    return np.dot(Xt_dot_X_inv_Xt, Y)"
     ],
     "language": "python",
     "metadata": {},
     "outputs": []
    }
   ],
   "metadata": {}
  }
 ]
}