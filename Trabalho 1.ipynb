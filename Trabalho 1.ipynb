{
 "metadata": {
  "name": ""
 },
 "nbformat": 3,
 "nbformat_minor": 0,
 "worksheets": [
  {
   "cells": [
    {
     "cell_type": "code",
     "collapsed": false,
     "input": [
      "import warnings\n",
      "warnings.filterwarnings('ignore')"
     ],
     "language": "python",
     "metadata": {},
     "outputs": [],
     "prompt_number": 144
    },
    {
     "cell_type": "heading",
     "level": 1,
     "metadata": {},
     "source": [
      "Fun\u00e7\u00e3o para carregamento de dados"
     ]
    },
    {
     "cell_type": "raw",
     "metadata": {},
     "source": [
      "Fun\u00e7\u00e3o que carrega os dados dos arquivos, retornando dois arrays, um contendo as n-1 primeiras colunas e outro com a n-\u00e9sima coluna."
     ]
    },
    {
     "cell_type": "code",
     "collapsed": false,
     "input": [
      "PATH_DADOS = \"Dados Exercicio 1\"\n",
      "FILENAMES = [\"ex1data1.txt\", \"ex1data2.txt\", \"ex1data3.txt\"]\n",
      "\n",
      "\n",
      "def carregar(filename, delimiter=\" \"):\n",
      "    import csv\n",
      "    import os\n",
      "    \n",
      "    reader = csv.reader(open(os.path.join(PATH_DADOS, filename)), delimiter=delimiter)\n",
      "    \n",
      "    values_X = []\n",
      "    values_Y = []\n",
      "\n",
      "    for row in reader:\n",
      "        values_X.append([float(x) for x in row[:-1]])\n",
      "        values_Y.append(float(row[-1]))\n",
      "    \n",
      "    import numpy as np\n",
      "\n",
      "    return np.array(values_X), np.array(values_Y)"
     ],
     "language": "python",
     "metadata": {},
     "outputs": [],
     "prompt_number": 145
    },
    {
     "cell_type": "heading",
     "level": 1,
     "metadata": {},
     "source": [
      "Fun\u00e7\u00e3o para plotar o gr\u00e1fico com duas dimens\u00f5es"
     ]
    },
    {
     "cell_type": "code",
     "collapsed": false,
     "input": [
      "def plot2d(X, Y, color=None):\n",
      "    from matplotlib import pyplot as pl\n",
      "        \n",
      "    line = pl.plot(X, Y)\n",
      "    if not color is None:\n",
      "        pyplot.setp(line, color=color)\n",
      "\n",
      "def scatter2d(X, Y):\n",
      "    from matplotlib import pyplot as pl\n",
      "    \n",
      "    pl.scatter(X, Y)"
     ],
     "language": "python",
     "metadata": {},
     "outputs": [],
     "prompt_number": 146
    },
    {
     "cell_type": "heading",
     "level": 1,
     "metadata": {},
     "source": [
      "Quest\u00e3o 1"
     ]
    },
    {
     "cell_type": "heading",
     "level": 4,
     "metadata": {},
     "source": [
      "Figura com os dados"
     ]
    },
    {
     "cell_type": "code",
     "collapsed": false,
     "input": [
      "X, Y = carregar(FILENAMES[0])\n",
      "scatter2d(X, Y)"
     ],
     "language": "python",
     "metadata": {},
     "outputs": [
      {
       "metadata": {},
       "output_type": "display_data",
       "png": "[encoded data removed]",
       "text": [
        "<matplotlib.figure.Figure at 0x562cb90>"
       ]
      }
     ],
     "prompt_number": 147
    },
    {
     "cell_type": "heading",
     "level": 4,
     "metadata": {},
     "source": [
      "Coment\u00e1rios: Um modelo de regress\u00e3o linear parece ser \n",
      "\n",
      "adequado para os dados em quest\u00e3o? Comente."
     ]
    },
    {
     "cell_type": "raw",
     "metadata": {},
     "source": [
      "Essa quest\u00e3o s\u00f3 pode ser respondida a partir da defini\u00e7\u00e3o de \"adequado\". Ela envolve aspectos como a precis\u00e3o que se deseja alcan\u00e7ar com o modelo e qu\u00e3o pr\u00f3ximo dos dados de treinamento espera-se que os dados a serem predizidos sejam.\n",
      "Pelo gr\u00e1fico, os dados n\u00e3o parecem possuir uma boa aproxima\u00e7\u00e3o por uma reta, por possuir, para valores pr\u00f3ximos de x, varia\u00e7\u00f5es n\u00e3o monot\u00f4nicas de y."
     ]
    },
    {
     "cell_type": "heading",
     "level": 4,
     "metadata": {},
     "source": [
      "- Implemente o algoritmo do gradiente descendente estoc\u00e1stico para \n",
      "\n",
      "encontrar os coeficientes da regress\u00e3o."
     ]
    },
    {
     "cell_type": "code",
     "collapsed": false,
     "input": [
      "# retorna o EQM, a m\u00e9dia dos erros e a m\u00e9dia dos erros pelos x's\n",
      "def eqm(gerado, esperado):\n",
      "    resultado = 0.\n",
      "    \n",
      "    for g, e in zip(gerado, esperado):\n",
      "        erro = g - e\n",
      "        erro_quadrado = erro**2\n",
      "        \n",
      "        resultado += erro_quadrado\n",
      "        \n",
      "    resultado /= len(gerado)\n",
      "    \n",
      "    return resultado\n",
      "\n",
      "def eq_1grau(ws, xs):\n",
      "    \n",
      "    return ws[0] + sum((ws[i+1]*xs[i] for i in xrange(len(xs))))\n",
      "    \n",
      "\n",
      "def grad_desc_estoq(X, Y, alfa=0.1, epocas=100, ws=None, plot=False):\n",
      "    # infere a quantidade de features\n",
      "    NUM_FEATURES = len(X[0])\n",
      "    \n",
      "    # valores randomicos para w0 e w1\n",
      "    if ws is None:\n",
      "        ws = [random.uniform(1,10) for _ in xrange(NUM_FEATURES+1)]\n",
      "    \n",
      "    eqms = []\n",
      "    \n",
      "    # percorre os valores de x e y\n",
      "    from itertools import cycle\n",
      "    xs = cycle(X)\n",
      "    ys = cycle(Y)\n",
      "    \n",
      "    for epoca, x, y in zip(xrange(epocas), xs, ys):\n",
      "        # calcula as predi\u00e7\u00f5es para os dados de treinamento\n",
      "        predicao = [eq_1grau(ws, elem) for elem in X]\n",
      "        \n",
      "        # calcula o eqm\n",
      "        eqms.append(eqm(predicao, Y))\n",
      "        \n",
      "        # erro da itera\u00e7\u00e3o\n",
      "        erro = y - eq_1grau(ws, x)\n",
      "        # atualiza os pesos\n",
      "        ws[0] += alfa*erro\n",
      "        for i in xrange(len(ws[1:])):\n",
      "            ws[i+1] += alfa*erro*x[i]\n",
      "        \n",
      "    if plot:\n",
      "        scatter2d(X, Y)\n",
      "        plot2d(X, [eq_1grau(ws, x) for x in X], color=\"r\")\n",
      "        \n",
      "    return ws, eqms\n",
      "    "
     ],
     "language": "python",
     "metadata": {},
     "outputs": [],
     "prompt_number": 148
    },
    {
     "cell_type": "heading",
     "level": 4,
     "metadata": {},
     "source": [
      "C\u00e1lculo dos pesos e dos EQMs"
     ]
    },
    {
     "cell_type": "code",
     "collapsed": false,
     "input": [
      "ws, eqms = grad_desc_estoq(X, Y, alfa=0.001, epocas=1000, plot=True)"
     ],
     "language": "python",
     "metadata": {},
     "outputs": [
      {
       "metadata": {},
       "output_type": "display_data",
       "png": "[encoded data removed]",
       "text": [
        "<matplotlib.figure.Figure at 0x42868d0>"
       ]
      }
     ],
     "prompt_number": 149
    },
    {
     "cell_type": "heading",
     "level": 4,
     "metadata": {},
     "source": [
      "Plot do gr\u00e1fico de EQM por \u00e9poca"
     ]
    },
    {
     "cell_type": "code",
     "collapsed": false,
     "input": [
      "plot2d(xrange(len(eqms)), eqms)"
     ],
     "language": "python",
     "metadata": {},
     "outputs": [
      {
       "metadata": {},
       "output_type": "display_data",
       "png": "[encoded data removed]",
       "text": [
        "<matplotlib.figure.Figure at 0x5590b90>"
       ]
      }
     ],
     "prompt_number": 150
    },
    {
     "cell_type": "heading",
     "level": 4,
     "metadata": {},
     "source": [
      "Valor final dos coeficientes"
     ]
    },
    {
     "cell_type": "code",
     "collapsed": false,
     "input": [
      "print ws"
     ],
     "language": "python",
     "metadata": {},
     "outputs": [
      {
       "output_type": "stream",
       "stream": "stdout",
       "text": [
        "[6.3750959625592305, 0.63202959238944856]\n"
       ]
      }
     ],
     "prompt_number": 151
    },
    {
     "cell_type": "heading",
     "level": 4,
     "metadata": {},
     "source": [
      "Coment\u00e1rios: Atrav\u00e9s do gr\u00e1fico \u201c\u00e9pocas x EQM\u201d \u00e9 poss\u00edvel \n",
      "\n",
      "verificar que o algoritmo est\u00e1 \u201caprendendo\u201d ? Comente."
     ]
    },
    {
     "cell_type": "raw",
     "metadata": {},
     "source": [
      "Considerando que uma diminui\u00e7\u00e3o dos erros do modelo em predi\u00e7\u00f5es sobre dados do training-set representam aprendizado, pode-se sim afirmar que o  algoritmo est\u00e1 \"aprendendo\".\n",
      "Podemos pensar cada \u00e9poca de treinamento como um incremento no aprendizado."
     ]
    },
    {
     "cell_type": "heading",
     "level": 4,
     "metadata": {},
     "source": [
      "Exemplo de utiliza\u00e7\u00e3o da fun\u00e7\u00e3o, para um conjunto de dados simples(fun\u00e7\u00e3o 2*x)"
     ]
    },
    {
     "cell_type": "code",
     "collapsed": false,
     "input": [
      "ws, eqms = grad_desc_estoq([[x] for x in xrange(40)], [2*x for x in xrange(40)], alfa=0.001, epocas=1000, plot=True)"
     ],
     "language": "python",
     "metadata": {},
     "outputs": [
      {
       "metadata": {},
       "output_type": "display_data",
       "png": "[encoded data removed]",
       "text": [
        "<matplotlib.figure.Figure at 0x5614d10>"
       ]
      }
     ],
     "prompt_number": 152
    },
    {
     "cell_type": "code",
     "collapsed": false,
     "input": [
      "plot2d(xrange(len(eqms)), eqms)"
     ],
     "language": "python",
     "metadata": {},
     "outputs": [
      {
       "metadata": {},
       "output_type": "display_data",
       "png": "[encoded data removed]",
       "text": [
        "<matplotlib.figure.Figure at 0x4216310>"
       ]
      }
     ],
     "prompt_number": 153
    },
    {
     "cell_type": "heading",
     "level": 4,
     "metadata": {},
     "source": [
      "Utilizando o modelo do scikit-learn"
     ]
    },
    {
     "cell_type": "code",
     "collapsed": false,
     "input": [
      "from sklearn import linear_model\n",
      "clf = linear_model.LinearRegression()\n",
      "clf.fit([[x] for x in xrange(20)], [x*2 + 4 for x in xrange(20)])\n",
      "\n",
      "print clf.coef_"
     ],
     "language": "python",
     "metadata": {},
     "outputs": [
      {
       "output_type": "stream",
       "stream": "stdout",
       "text": [
        "[ 2.]\n"
       ]
      }
     ],
     "prompt_number": 154
    },
    {
     "cell_type": "heading",
     "level": 1,
     "metadata": {},
     "source": [
      "Quest\u00e3o 2"
     ]
    },
    {
     "cell_type": "code",
     "collapsed": false,
     "input": [
      "X, Y = carregar(FILENAMES[1])"
     ],
     "language": "python",
     "metadata": {},
     "outputs": [],
     "prompt_number": 155
    },
    {
     "cell_type": "heading",
     "level": 4,
     "metadata": {},
     "source": [
      "Gr\u00e1fico do Y pela feature 1"
     ]
    },
    {
     "cell_type": "code",
     "collapsed": false,
     "input": [
      "scatter2d(X[:, 0], Y)"
     ],
     "language": "python",
     "metadata": {},
     "outputs": [
      {
       "metadata": {},
       "output_type": "display_data",
       "png": "[encoded data removed]",
       "text": [
        "<matplotlib.figure.Figure at 0x5635dd0>"
       ]
      }
     ],
     "prompt_number": 156
    },
    {
     "cell_type": "heading",
     "level": 4,
     "metadata": {},
     "source": [
      "Gr\u00e1fico do Y pela feature 2"
     ]
    },
    {
     "cell_type": "code",
     "collapsed": false,
     "input": [
      "scatter2d(X[:, 1], Y)"
     ],
     "language": "python",
     "metadata": {},
     "outputs": [
      {
       "metadata": {},
       "output_type": "display_data",
       "png": "[encoded data removed]",
       "text": [
        "<matplotlib.figure.Figure at 0x5675bd0>"
       ]
      }
     ],
     "prompt_number": 157
    },
    {
     "cell_type": "heading",
     "level": 4,
     "metadata": {},
     "source": [
      "Execu\u00e7\u00e3o do gradiente descendente estoc\u00e1stico"
     ]
    },
    {
     "cell_type": "code",
     "collapsed": false,
     "input": [
      "ws, eqms = grad_desc_estoq(X, Y, alfa=0.01, epocas=100)"
     ],
     "language": "python",
     "metadata": {},
     "outputs": [],
     "prompt_number": 158
    },
    {
     "cell_type": "heading",
     "level": 4,
     "metadata": {},
     "source": [
      "Plot do gr\u00e1fico de EQM por \u00e9poca"
     ]
    },
    {
     "cell_type": "code",
     "collapsed": false,
     "input": [
      "plot2d(xrange(len(eqms)), eqms)"
     ],
     "language": "python",
     "metadata": {},
     "outputs": [
      {
       "metadata": {},
       "output_type": "display_data",
       "png": "[encoded data removed]",
       "text": [
        "<matplotlib.figure.Figure at 0x5600350>"
       ]
      }
     ],
     "prompt_number": 159
    },
    {
     "cell_type": "heading",
     "level": 4,
     "metadata": {},
     "source": [
      "Coeficientes"
     ]
    },
    {
     "cell_type": "code",
     "collapsed": false,
     "input": [
      "print ws"
     ],
     "language": "python",
     "metadata": {},
     "outputs": [
      {
       "output_type": "stream",
       "stream": "stdout",
       "text": [
        "[1.5988510984719138, 1.105411716480746, -0.11463822096936917]\n"
       ]
      }
     ],
     "prompt_number": 160
    },
    {
     "cell_type": "heading",
     "level": 4,
     "metadata": {},
     "source": [
      "Coment\u00e1rios: Atrav\u00e9s do gr\u00e1fico \u201c\u00e9pocas x EQM\u201d \u00e9 poss\u00edvel \n",
      "\n",
      "verificar que o algoritmo est\u00e1 \u201caprendendo\u201d ? Comente."
     ]
    },
    {
     "cell_type": "raw",
     "metadata": {},
     "source": [
      "Mesma resposta para a mesma pergunta da quest\u00e3o 1."
     ]
    },
    {
     "cell_type": "heading",
     "level": 4,
     "metadata": {},
     "source": [
      "Regress\u00e3o com o m\u00e9todo dos m\u00ednimos quadrados"
     ]
    },
    {
     "cell_type": "code",
     "collapsed": false,
     "input": [
      "def add_ones_left(X):\n",
      "    X_com_1s = np.ones((X.shape[0], X.shape[1]+1))\n",
      "    X_com_1s[:, 1:] = X\n",
      "    \n",
      "    return X_com_1s\n",
      "    \n",
      "def lsm(X, Y):\n",
      "    import numpy as np\n",
      "    \n",
      "    # 1s da coluna do peso w0\n",
      "    X_com_1s = add_ones_left(X)\n",
      "    \n",
      "    Xt = np.transpose(X_com_1s)\n",
      "    Xt_dot_X = np.dot(Xt, X_com_1s)\n",
      "    Xt_dot_X_inv = np.linalg.solve(Xt_dot_X, np.identity(len(Xt_dot_X)))\n",
      "    Xt_dot_X_inv_Xt = np.dot(Xt_dot_X_inv, Xt)\n",
      "    return np.dot(Xt_dot_X_inv_Xt, Y)"
     ],
     "language": "python",
     "metadata": {},
     "outputs": [],
     "prompt_number": 161
    },
    {
     "cell_type": "heading",
     "level": 4,
     "metadata": {},
     "source": [
      "- Encontre os coeficientes da regress\u00e3o utilizando o m\u00e9todo dos \n",
      "\n",
      "m\u00ednimos quadrados."
     ]
    },
    {
     "cell_type": "code",
     "collapsed": false,
     "input": [
      "lsm(X, Y)"
     ],
     "language": "python",
     "metadata": {},
     "outputs": [
      {
       "metadata": {},
       "output_type": "pyout",
       "prompt_number": 162,
       "text": [
        "array([ 0.8959791 ,  1.39210674, -0.08738019])"
       ]
      }
     ],
     "prompt_number": 162
    },
    {
     "cell_type": "heading",
     "level": 4,
     "metadata": {},
     "source": [
      "Utilizando o modelo do scikit-learn"
     ]
    },
    {
     "cell_type": "code",
     "collapsed": false,
     "input": [
      "from sklearn import linear_model\n",
      "clf = linear_model.LinearRegression()\n",
      "clf.fit(add_ones_left(X), Y)\n",
      "\n",
      "print clf.coef_"
     ],
     "language": "python",
     "metadata": {},
     "outputs": [
      {
       "output_type": "stream",
       "stream": "stdout",
       "text": [
        "[ 0.          1.39210674 -0.08738019]\n"
       ]
      }
     ],
     "prompt_number": 163
    },
    {
     "cell_type": "heading",
     "level": 4,
     "metadata": {},
     "source": [
      "Coment\u00e1rios: Os valores obtidos pelos dois m\u00e9todos s\u00e3o iguais? \n",
      "\n",
      "Comente."
     ]
    },
    {
     "cell_type": "raw",
     "metadata": {},
     "source": [
      "N\u00e3o. #TODO"
     ]
    },
    {
     "cell_type": "heading",
     "level": 1,
     "metadata": {},
     "source": [
      "Quest\u00e3o 3"
     ]
    },
    {
     "cell_type": "code",
     "collapsed": false,
     "input": [
      "X, Y = carregar(FILENAMES[2])"
     ],
     "language": "python",
     "metadata": {},
     "outputs": [],
     "prompt_number": 164
    },
    {
     "cell_type": "heading",
     "level": 4,
     "metadata": {},
     "source": [
      "Divis\u00e3o dos dados em training-set e test-set"
     ]
    },
    {
     "cell_type": "code",
     "collapsed": false,
     "input": [
      "X_training = X[:30]\n",
      "Y_training = Y[:30]\n",
      "\n",
      "X_test = X[30:]\n",
      "Y_test = Y[30:]"
     ],
     "language": "python",
     "metadata": {},
     "outputs": [],
     "prompt_number": 165
    },
    {
     "cell_type": "heading",
     "level": 4,
     "metadata": {},
     "source": [
      "- Encontre os coeficientes da regress\u00e3o utilizando o m\u00e9todo dos \n",
      "\n",
      "m\u00ednimos quadrados regularizado para os seguintes valores de \u03bb = [0 1 2 3 4 \n",
      "\n",
      "5]. Utilize o conjunto de treinamento."
     ]
    },
    {
     "cell_type": "code",
     "collapsed": false,
     "input": [
      "def lsm_regularizado(X, Y, lamb=0):\n",
      "    import numpy as np\n",
      "    \n",
      "    # 1s da coluna do peso w0\n",
      "    X_com_1s = add_ones_left(X)\n",
      "    \n",
      "    Xt = np.transpose(X_com_1s)\n",
      "    Xt_dot_X = np.dot(Xt, X_com_1s)\n",
      "    Xt_dot_X_plus_lamb = Xt_dot_X + np.identity(Xt_dot_X.shape[0])*lamb\n",
      "    Xt_dot_X_inv = np.linalg.solve(Xt_dot_X_plus_lamb, np.identity(len(Xt_dot_X_plus_lamb)))\n",
      "    Xt_dot_X_inv_Xt = np.dot(Xt_dot_X_inv, Xt)\n",
      "    return np.dot(Xt_dot_X_inv_Xt, Y)"
     ],
     "language": "python",
     "metadata": {},
     "outputs": [],
     "prompt_number": 166
    },
    {
     "cell_type": "code",
     "collapsed": false,
     "input": [
      "coeficientes = []\n",
      "lambdas = [0,1,2,3,4,5]\n",
      "\n",
      "for lamb in lambdas:\n",
      "    coeficientes.append([lamb, lsm_regularizado(X_training, Y_training, lamb=lamb)])"
     ],
     "language": "python",
     "metadata": {},
     "outputs": [],
     "prompt_number": 167
    },
    {
     "cell_type": "code",
     "collapsed": false,
     "input": [
      "coefs_frame = []\n",
      "from pandas import DataFrame\n",
      "\n",
      "coefs = np.array([coef for [_, coef] in coeficientes])\n",
      "\n",
      "as_dict = {\"w0\":coefs[:,0], \"w1\":coefs[:,1], \"w2\":coefs[:,2], \"w3\":coefs[:,3], \"w4\":coefs[:,4], \"w5\":coefs[:,5]}\n",
      "\n",
      "coefs_frame = DataFrame(data=as_dict)\n",
      "\n",
      "coefs_frame"
     ],
     "language": "python",
     "metadata": {},
     "outputs": [
      {
       "html": [
        "<div style=\"max-height:1000px;max-width:1500px;overflow:auto;\">\n",
        "<table border=\"1\" class=\"dataframe\">\n",
        "  <thead>\n",
        "    <tr style=\"text-align: right;\">\n",
        "      <th></th>\n",
        "      <th>w0</th>\n",
        "      <th>w1</th>\n",
        "      <th>w2</th>\n",
        "      <th>w3</th>\n",
        "      <th>w4</th>\n",
        "      <th>w5</th>\n",
        "    </tr>\n",
        "  </thead>\n",
        "  <tbody>\n",
        "    <tr>\n",
        "      <th>0</th>\n",
        "      <td> 0.792989</td>\n",
        "      <td> 2.056501</td>\n",
        "      <td> 0.121439</td>\n",
        "      <td>-1.161379</td>\n",
        "      <td> 0.062729</td>\n",
        "      <td>-0.391102</td>\n",
        "    </tr>\n",
        "    <tr>\n",
        "      <th>1</th>\n",
        "      <td> 0.111568</td>\n",
        "      <td> 1.327679</td>\n",
        "      <td> 0.254142</td>\n",
        "      <td> 0.220779</td>\n",
        "      <td> 0.049086</td>\n",
        "      <td>-0.254957</td>\n",
        "    </tr>\n",
        "    <tr>\n",
        "      <th>2</th>\n",
        "      <td> 0.097677</td>\n",
        "      <td> 1.154551</td>\n",
        "      <td> 0.274012</td>\n",
        "      <td> 0.287010</td>\n",
        "      <td> 0.058775</td>\n",
        "      <td>-0.123092</td>\n",
        "    </tr>\n",
        "    <tr>\n",
        "      <th>3</th>\n",
        "      <td> 0.098098</td>\n",
        "      <td> 1.043871</td>\n",
        "      <td> 0.291524</td>\n",
        "      <td> 0.298925</td>\n",
        "      <td> 0.070535</td>\n",
        "      <td>-0.038295</td>\n",
        "    </tr>\n",
        "    <tr>\n",
        "      <th>4</th>\n",
        "      <td> 0.100460</td>\n",
        "      <td> 0.963394</td>\n",
        "      <td> 0.307166</td>\n",
        "      <td> 0.298476</td>\n",
        "      <td> 0.081888</td>\n",
        "      <td> 0.019792</td>\n",
        "    </tr>\n",
        "    <tr>\n",
        "      <th>5</th>\n",
        "      <td> 0.103095</td>\n",
        "      <td> 0.901191</td>\n",
        "      <td> 0.320989</td>\n",
        "      <td> 0.294309</td>\n",
        "      <td> 0.092194</td>\n",
        "      <td> 0.061640</td>\n",
        "    </tr>\n",
        "  </tbody>\n",
        "</table>\n",
        "</div>"
       ],
       "metadata": {},
       "output_type": "pyout",
       "prompt_number": 168,
       "text": [
        "         w0        w1        w2        w3        w4        w5\n",
        "0  0.792989  2.056501  0.121439 -1.161379  0.062729 -0.391102\n",
        "1  0.111568  1.327679  0.254142  0.220779  0.049086 -0.254957\n",
        "2  0.097677  1.154551  0.274012  0.287010  0.058775 -0.123092\n",
        "3  0.098098  1.043871  0.291524  0.298925  0.070535 -0.038295\n",
        "4  0.100460  0.963394  0.307166  0.298476  0.081888  0.019792\n",
        "5  0.103095  0.901191  0.320989  0.294309  0.092194  0.061640"
       ]
      }
     ],
     "prompt_number": 168
    },
    {
     "cell_type": "heading",
     "level": 4,
     "metadata": {},
     "source": [
      "Coment\u00e1rios: Quais vari\u00e1veis parecem ser menos relevantes para a \n",
      "\n",
      "regress\u00e3o?"
     ]
    },
    {
     "cell_type": "raw",
     "metadata": {},
     "source": [
      "Para cada lambda, ordenamos crescentemente as vari\u00e1veis, em valores absolutos, ficando com:"
     ]
    },
    {
     "cell_type": "code",
     "collapsed": false,
     "input": [
      "coefs_frame = []\n",
      "from pandas import DataFrame\n",
      "\n",
      "coefs = np.abs(np.array([coef for [_, coef] in coeficientes]))\n",
      "\n",
      "as_dicts = [{\"lambda 0\":coefs[0,:]}, {\"lambda 1\":coefs[1,:]}, {\"lambda 2\":coefs[2,:]}, {\"lambda 3\":coefs[3,:]}, {\"lambda 4\":coefs[4,:]}, {\"lambda 5\":coefs[5,:]}]\n",
      "\n",
      "coefs_frames = [DataFrame(data=as_dict) for as_dict in as_dicts]\n",
      "\n",
      "for i in xrange(6):\n",
      "    print coefs_frames[i].sort(\"lambda %s\" % str(i))"
     ],
     "language": "python",
     "metadata": {},
     "outputs": [
      {
       "output_type": "stream",
       "stream": "stdout",
       "text": [
        "   lambda 0\n",
        "4  0.062729\n",
        "2  0.121439\n",
        "5  0.391102\n",
        "0  0.792989\n",
        "3  1.161379\n",
        "1  2.056501\n",
        "   lambda 1\n",
        "4  0.049086\n",
        "0  0.111568\n",
        "3  0.220779\n",
        "2  0.254142\n",
        "5  0.254957\n",
        "1  1.327679\n",
        "   lambda 2\n",
        "4  0.058775\n",
        "0  0.097677\n",
        "5  0.123092\n",
        "2  0.274012\n",
        "3  0.287010\n",
        "1  1.154551\n",
        "   lambda 3\n",
        "5  0.038295\n",
        "4  0.070535\n",
        "0  0.098098\n",
        "2  0.291524\n",
        "3  0.298925\n",
        "1  1.043871\n",
        "   lambda 4\n",
        "5  0.019792\n",
        "4  0.081888\n",
        "0  0.100460\n",
        "3  0.298476\n",
        "2  0.307166\n",
        "1  0.963394\n",
        "   lambda 5\n",
        "5  0.061640\n",
        "4  0.092194\n",
        "0  0.103095\n",
        "3  0.294309\n",
        "2  0.320989\n",
        "1  0.901191\n"
       ]
      }
     ],
     "prompt_number": 169
    },
    {
     "cell_type": "raw",
     "metadata": {},
     "source": [
      "Para lambdas em {0, 1, 2} o w4 foi a vari\u00e1vel com menor valor absoluto.\n",
      "J\u00e1 para lambdas em {3, 4, 5} o w5 foi a vari\u00e1vel com menor valor absoluto."
     ]
    },
    {
     "cell_type": "heading",
     "level": 4,
     "metadata": {},
     "source": [
      "- Encontrar o valor do EQM para os dados de treinamento e de teste \n",
      "\n",
      "para cada um dos valores de \u03bb."
     ]
    },
    {
     "cell_type": "code",
     "collapsed": false,
     "input": [
      "eqms_por_lambda = []\n",
      "\n",
      "for lamb, coefs in coeficientes:\n",
      "    pred_training = [eq_1grau(coefs, xs) for xs in X_training]\n",
      "    eqm_training= eqm(pred_training, Y_training)\n",
      "    \n",
      "    pred_test = [eq_1grau(coefs, xs) for xs in X_test]\n",
      "    eqm_test = eqm(pred_test, Y_test)\n",
      "    \n",
      "    eqms_por_lambda.append([eqm_training, eqm_test])\n",
      "    \n",
      "eqms_por_lambda = np.array(eqms_por_lambda)\n"
     ],
     "language": "python",
     "metadata": {},
     "outputs": [],
     "prompt_number": 170
    },
    {
     "cell_type": "heading",
     "level": 4,
     "metadata": {},
     "source": [
      "Gr\u00e1fico de EQM x training-set"
     ]
    },
    {
     "cell_type": "code",
     "collapsed": false,
     "input": [
      "plot2d(xrange(6), eqms_por_lambda[:,0])"
     ],
     "language": "python",
     "metadata": {},
     "outputs": [
      {
       "metadata": {},
       "output_type": "display_data",
       "png": "[encoded data removed]",
       "text": [
        "<matplotlib.figure.Figure at 0x50aabd0>"
       ]
      }
     ],
     "prompt_number": 171
    },
    {
     "cell_type": "heading",
     "level": 4,
     "metadata": {},
     "source": [
      "Gr\u00e1fico de EQM x test-set"
     ]
    },
    {
     "cell_type": "code",
     "collapsed": false,
     "input": [
      "plot2d(xrange(6), eqms_por_lambda[:,1])"
     ],
     "language": "python",
     "metadata": {},
     "outputs": [
      {
       "metadata": {},
       "output_type": "display_data",
       "png": "[encoded data removed]",
       "text": [
        "<matplotlib.figure.Figure at 0x55b0c10>"
       ]
      }
     ],
     "prompt_number": 172
    },
    {
     "cell_type": "heading",
     "level": 4,
     "metadata": {},
     "source": [
      "Coment\u00e1rios: Como os valores dos coeficientes variam com \u03bb ? \n",
      "\n",
      "Explique o motivo."
     ]
    },
    {
     "cell_type": "code",
     "collapsed": false,
     "input": [
      "for lamb, coefs in coeficientes:\n",
      "    print \"Lambda:\", lamb, \"M\u00e9dia dos coeficientes:\", sum(np.abs(coefs))/len(coefs)"
     ],
     "language": "python",
     "metadata": {},
     "outputs": [
      {
       "output_type": "stream",
       "stream": "stdout",
       "text": [
        "Lambda: 0 M\u00e9dia dos coeficientes: 0.764356552684\n",
        "Lambda: 1 M\u00e9dia dos coeficientes: 0.369701833015\n",
        "Lambda: 2 M\u00e9dia dos coeficientes: 0.332519429917\n",
        "Lambda: 3 M\u00e9dia dos coeficientes: 0.306874650909\n",
        "Lambda: 4 M\u00e9dia dos coeficientes: 0.2951959092\n",
        "Lambda: 5 M\u00e9dia dos coeficientes: 0.2955695343\n"
       ]
      }
     ],
     "prompt_number": 173
    },
    {
     "cell_type": "raw",
     "metadata": {},
     "source": [
      "Como se pode observar pelos dados acima, quanto maior o lambda, menor \u00e9 a m\u00e9dia absoluta dos coeficientes.\n",
      "O motivo \u00e9 o fato de ter sido utilizada uma t\u00e9cnica de regulariza\u00e7\u00e3o(suaviza\u00e7\u00e3o) que diminui o valor dos coeficientes proporcionalmente \u00e0s suas influ\u00eancias nos resultados."
     ]
    },
    {
     "cell_type": "heading",
     "level": 4,
     "metadata": {},
     "source": [
      "Comente o crescimento/decrescimento dos erros presente nas figuras \n",
      "\n",
      "EQM x \u03bb"
     ]
    },
    {
     "cell_type": "raw",
     "metadata": {},
     "source": [
      "Pode-se perceber que quanto maior o lambda da regulariza\u00e7\u00e3o, maior torna-se o EQM para os dados de treinamento e menor torna-se o EQM para os dados de teste.\n",
      "Uma das poss\u00edveis causas para tal situa\u00e7\u00e3o \u00e9 que h\u00e1 dados no training-set que causam uma grande varia\u00e7\u00e3o no modelo, varia\u00e7\u00e3o esta que n\u00e3o reflete a fun\u00e7\u00e3o que representa os dados. Tal problema \u00e9 denominado overfitting e, para resolv\u00ea-lo, utilizam-se t\u00e9cnicas de regulariza\u00e7\u00e3o de forma a diminuir tais distor\u00e7\u00f5es."
     ]
    },
    {
     "cell_type": "code",
     "collapsed": false,
     "input": [],
     "language": "python",
     "metadata": {},
     "outputs": [],
     "prompt_number": 173
    }
   ],
   "metadata": {}
  }
 ]
}