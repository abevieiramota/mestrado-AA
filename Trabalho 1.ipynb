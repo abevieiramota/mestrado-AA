{
 "metadata": {
  "name": ""
 },
 "nbformat": 3,
 "nbformat_minor": 0,
 "worksheets": [
  {
   "cells": [
    {
     "cell_type": "heading",
     "level": 1,
     "metadata": {},
     "source": [
      "Imports gerais"
     ]
    },
    {
     "cell_type": "code",
     "collapsed": false,
     "input": [
      "import warnings\n",
      "warnings.filterwarnings('ignore')\n",
      "# biblioteca para sistema operacional\n",
      "import os\n",
      "# biblioteca para plots\n",
      "from matplotlib import pyplot as pl\n",
      "# biblioteca para dados estruturados\n",
      "import pandas as pd\n",
      "# biblioteca para manipula\u00e7\u00e3o de arrays\n",
      "import numpy as np\n",
      "# fun\u00e7\u00e3o para gera\u00e7\u00e3o de arrays c\u00edclicos\n",
      "from itertools import cycle\n",
      "# random\n",
      "import random"
     ],
     "language": "python",
     "metadata": {},
     "outputs": [],
     "prompt_number": 1
    },
    {
     "cell_type": "heading",
     "level": 1,
     "metadata": {},
     "source": [
      "Constantes do trabalho"
     ]
    },
    {
     "cell_type": "code",
     "collapsed": false,
     "input": [
      "PATH_DADOS = \"Dados Exercicio 1\"\n",
      "Q1_FILEPATH = os.path.join(PATH_DADOS, 'ex1data1.txt')\n",
      "Q1_COLUMNS = ['x', 'y']\n",
      "\n",
      "Q2_FILEPATH = os.path.join(PATH_DADOS, 'ex1data2.txt')\n",
      "Q2_COLUMNS = ['area', 'num quartos', 'pre\u00e7o']\n",
      "\n",
      "Q3_FILEPATH = os.path.join(PATH_DADOS, 'ex1data3.txt')\n",
      "Q3_COLUMNS = ['v1', 'v2', 'v3', 'v4', 'v5', 'pre\u00e7o']"
     ],
     "language": "python",
     "metadata": {},
     "outputs": [],
     "prompt_number": 45
    },
    {
     "cell_type": "heading",
     "level": 1,
     "metadata": {},
     "source": [
      "Fun\u00e7\u00e3o para plotar o gr\u00e1fico com duas dimens\u00f5es"
     ]
    },
    {
     "cell_type": "code",
     "collapsed": false,
     "input": [
      "def plot2d(dados, color=None, filename=None):\n",
      "        \n",
      "    line = pl.plot(dados[dados.columns[0]], dados[dados.columns[-1]])\n",
      "    if not color is None:\n",
      "        pyplot.setp(line, color=color)\n",
      "    \n",
      "    if not filename is None:\n",
      "        pyplot.savefig(filename)\n",
      "        pyplot.clf()"
     ],
     "language": "python",
     "metadata": {},
     "outputs": [],
     "prompt_number": 3
    },
    {
     "cell_type": "heading",
     "level": 1,
     "metadata": {},
     "source": [
      "Quest\u00e3o 1"
     ]
    },
    {
     "cell_type": "heading",
     "level": 4,
     "metadata": {},
     "source": [
      "Figura com os dados"
     ]
    },
    {
     "cell_type": "code",
     "collapsed": false,
     "input": [
      "q1_dados = pd.read_csv(Q1_FILEPATH, sep=' ', names=Q1_COLUMNS)\n",
      "pl.scatter(q1_dados['x'], q1_dados['y'])"
     ],
     "language": "python",
     "metadata": {},
     "outputs": [
      {
       "metadata": {},
       "output_type": "pyout",
       "prompt_number": 4,
       "text": [
        "<matplotlib.collections.PathCollection at 0x39887d0>"
       ]
      },
      {
       "metadata": {},
       "output_type": "display_data",
       "png": "[encoded data removed]",
       "text": [
        "<matplotlib.figure.Figure at 0x31fb390>"
       ]
      }
     ],
     "prompt_number": 4
    },
    {
     "cell_type": "heading",
     "level": 4,
     "metadata": {},
     "source": [
      "Coment\u00e1rios: Um modelo de regress\u00e3o linear parece ser \n",
      "\n",
      "adequado para os dados em quest\u00e3o? Comente."
     ]
    },
    {
     "cell_type": "raw",
     "metadata": {},
     "source": [
      "Essa quest\u00e3o s\u00f3 pode ser respondida a partir da defini\u00e7\u00e3o de \"adequado\". Ela envolve aspectos como a precis\u00e3o que se deseja alcan\u00e7ar com o modelo e qu\u00e3o pr\u00f3ximo dos dados de treinamento espera-se que os dados a serem predizidos sejam.\n",
      "Pelo gr\u00e1fico, os dados n\u00e3o parecem possuir uma boa aproxima\u00e7\u00e3o por uma reta, por possuir, para valores pr\u00f3ximos de x, varia\u00e7\u00f5es n\u00e3o monot\u00f4nicas de y."
     ]
    },
    {
     "cell_type": "heading",
     "level": 4,
     "metadata": {},
     "source": [
      "- Implemente o algoritmo do gradiente descendente estoc\u00e1stico para \n",
      "\n",
      "encontrar os coeficientes da regress\u00e3o."
     ]
    },
    {
     "cell_type": "code",
     "collapsed": false,
     "input": [
      "# retorna o EQM\n",
      "\n",
      "def eqm(gerado, esperado):\n",
      "    \n",
      "    return np.sum((gerado - esperado)**2)/len(gerado)\n",
      "\n",
      "# retorna o valor da equa\u00e7\u00e3o linear formada pelos coeficientes em ws, para valores de x em xs\n",
      "def eq_1grau(ws, xs):\n",
      "    \n",
      "    return ws[0] + sum(ws[1:]*xs)\n",
      "\n",
      "\n",
      "PATH_SAVE_PLOTS_GRAD_DESC_ESTOQ = \"grad_desc_estoq\"\n",
      "# calcula os coeficientes por gradiente descendente estoc\u00e1stico, retornando tamb\u00e9m os eqms calculados em cada \u00e9poca\n",
      "# caso plot=True, plota o gr\u00e1fico dos pontos do training-set pela reta da predi\u00e7\u00e3o\n",
      "def grad_desc_estoq(dados, alfa=0.1, epocas=100, ws=None, save=False):\n",
      "    # infere a quantidade de features\n",
      "    NUM_FEATURES = len(dados.columns) - 1\n",
      "    \n",
      "    # valores randomicos para w0 e w1\n",
      "    if ws is None:\n",
      "        ws =  np.random.uniform(-1.0, 1.0, NUM_FEATURES + 1)\n",
      "    \n",
      "    eqms = []\n",
      "    \n",
      "    for epoca in xrange(epocas):\n",
      "        \n",
      "        dados_treino_epoca = dados.ix[random.sample(dados.index, len(dados.index))]\n",
      "        \n",
      "        for i, row in dados_treino_epoca.iterrows():\n",
      "            \n",
      "            row_as_array = np.array(row[:-1])\n",
      "            \n",
      "            erro = row[-1] - eq_1grau(ws, row_as_array)\n",
      "\n",
      "            ws[0] += alfa*erro\n",
      "            ws[1:] = ws[1:] + alfa*erro*row_as_array\n",
      "\n",
      "        \n",
      "        predicao = [eq_1grau(ws, x) for x in dados[dados.columns[0]]]\n",
      "        # calcula o eqm\n",
      "        eqms.append(eqm(predicao, dados[dados.columns[-1]]))\n",
      "        \n",
      "        if save:\n",
      "            pl.scatter(dados[dados.columns[0]], dados[dados.columns[-1]])\n",
      "            plot2d(dados, predicao, filename=os.path.join(PATH_SAVE_PLOTS_GRAD_DESC_ESTOQ, \"img%04d.jpg\" % epoca))\n",
      "            \n",
      "    return ws, eqms    "
     ],
     "language": "python",
     "metadata": {},
     "outputs": [],
     "prompt_number": 6
    },
    {
     "cell_type": "heading",
     "level": 4,
     "metadata": {},
     "source": [
      "C\u00e1lculo dos pesos e dos EQMs"
     ]
    },
    {
     "cell_type": "code",
     "collapsed": false,
     "input": [
      "ws, eqms = grad_desc_estoq(q1_dados[:10], alfa=0.001, epocas=1000, ws=[1., 1.])"
     ],
     "language": "python",
     "metadata": {},
     "outputs": [],
     "prompt_number": 7
    },
    {
     "cell_type": "heading",
     "level": 4,
     "metadata": {},
     "source": [
      "Plot do gr\u00e1fico de EQM por \u00e9poca"
     ]
    },
    {
     "cell_type": "code",
     "collapsed": false,
     "input": [
      "pl.plot(xrange(len(eqms)), eqms)"
     ],
     "language": "python",
     "metadata": {},
     "outputs": [
      {
       "metadata": {},
       "output_type": "pyout",
       "prompt_number": 11,
       "text": [
        "[<matplotlib.lines.Line2D at 0x3e864d0>]"
       ]
      },
      {
       "metadata": {},
       "output_type": "display_data",
       "png": "[encoded data removed]",
       "text": [
        "<matplotlib.figure.Figure at 0x3d9ea10>"
       ]
      }
     ],
     "prompt_number": 11
    },
    {
     "cell_type": "heading",
     "level": 4,
     "metadata": {},
     "source": [
      "Valor final dos coeficientes"
     ]
    },
    {
     "cell_type": "code",
     "collapsed": false,
     "input": [
      "print ws"
     ],
     "language": "python",
     "metadata": {},
     "outputs": [
      {
       "output_type": "stream",
       "stream": "stdout",
       "text": [
        "[0.89759757534830731, 1.2750349336644604]\n"
       ]
      }
     ],
     "prompt_number": 12
    },
    {
     "cell_type": "heading",
     "level": 4,
     "metadata": {},
     "source": [
      "Coment\u00e1rios: Atrav\u00e9s do gr\u00e1fico \u201c\u00e9pocas x EQM\u201d \u00e9 poss\u00edvel \n",
      "\n",
      "verificar que o algoritmo est\u00e1 \u201caprendendo\u201d ? Comente."
     ]
    },
    {
     "cell_type": "raw",
     "metadata": {},
     "source": [
      "Considerando que uma diminui\u00e7\u00e3o dos erros do modelo em predi\u00e7\u00f5es sobre dados do training-set representam aprendizado, pode-se sim afirmar que o  algoritmo est\u00e1 \"aprendendo\".\n",
      "Podemos pensar cada \u00e9poca de treinamento como um incremento no aprendizado."
     ]
    },
    {
     "cell_type": "heading",
     "level": 4,
     "metadata": {},
     "source": [
      "Exemplo de utiliza\u00e7\u00e3o da fun\u00e7\u00e3o, para um conjunto de dados simples(fun\u00e7\u00e3o 2*x)"
     ]
    },
    {
     "cell_type": "code",
     "collapsed": false,
     "input": [
      "f2x = pd.DataFrame(index=np.arange(40), columns=Q1_COLUMNS)\n",
      "f2x['x'] = np.arange(40).reshape(40, 1)\n",
      "f2x['y'] = 2*np.arange(40)\n",
      "ws, eqms = grad_desc_estoq(f2x, alfa=0.001, epocas=1000)"
     ],
     "language": "python",
     "metadata": {},
     "outputs": [],
     "prompt_number": 16
    },
    {
     "cell_type": "code",
     "collapsed": false,
     "input": [
      "pl.plot(xrange(len(eqms)), eqms)"
     ],
     "language": "python",
     "metadata": {},
     "outputs": [
      {
       "metadata": {},
       "output_type": "pyout",
       "prompt_number": 18,
       "text": [
        "[<matplotlib.lines.Line2D at 0x42af290>]"
       ]
      },
      {
       "metadata": {},
       "output_type": "display_data",
       "png": "[encoded data removed]",
       "text": [
        "<matplotlib.figure.Figure at 0x3e963d0>"
       ]
      }
     ],
     "prompt_number": 18
    },
    {
     "cell_type": "heading",
     "level": 4,
     "metadata": {},
     "source": [
      "Utilizando o modelo do scikit-learn com dados de treinamentos formados pela reta 2x+4, no intervalo [0,100] e por ru\u00eddo no intervalo [-100,0)"
     ]
    },
    {
     "cell_type": "code",
     "collapsed": false,
     "input": [
      "def pol_(x):\n",
      "    return 2*x.reshape(-1) + 4\n",
      "\n",
      "def pow_(x):\n",
      "    return x.reshape(-1)**2\n",
      "\n",
      "CLF_RUIDO_INCREMENTAL = \"clf_ruido_incremental\"\n",
      "def clf_ruido_incremental(ini=-100, fim=100, size=100, fun=pol_, save=False):\n",
      "    x = np.linspace(ini, fim, size).reshape(size, 1)\n",
      "    y = fun(x)\n",
      "    ruido = np.random.randint(-5000, 5000, size)\n",
      "    \n",
      "    from sklearn import linear_model\n",
      "    import random\n",
      "    \n",
      "    for i in xrange(size):\n",
      "        clf = linear_model.LinearRegression()\n",
      "        clf.fit(x, y)\n",
      "        \n",
      "        if save:\n",
      "            scatter2d(x, y)\n",
      "            plot2d(x, clf.predict(x), color='r', filename=os.path.join(CLF_RUIDO_INCREMENTAL, \"img%04d.png\" % i))\n",
      "        \n",
      "        y[i] = ruido[i]\n",
      "        \n",
      "clf_ruido_incremental(ini=-500, fim=500, size=1000, fun=pol_)"
     ],
     "language": "python",
     "metadata": {},
     "outputs": [],
     "prompt_number": 20
    },
    {
     "cell_type": "heading",
     "level": 1,
     "metadata": {},
     "source": [
      "Quest\u00e3o 2"
     ]
    },
    {
     "cell_type": "code",
     "collapsed": false,
     "input": [
      "q2_dados = pd.read_csv(Q2_FILEPATH, sep=' ', names=Q2_COLUMNS)"
     ],
     "language": "python",
     "metadata": {},
     "outputs": [],
     "prompt_number": 41
    },
    {
     "cell_type": "heading",
     "level": 4,
     "metadata": {},
     "source": [
      "Gr\u00e1fico do Y pela feature 1"
     ]
    },
    {
     "cell_type": "code",
     "collapsed": false,
     "input": [
      "pl.scatter(q2_dados['area'], q2_dados['pre\u00e7o'])"
     ],
     "language": "python",
     "metadata": {},
     "outputs": [
      {
       "metadata": {},
       "output_type": "pyout",
       "prompt_number": 24,
       "text": [
        "<matplotlib.collections.PathCollection at 0x4eaac10>"
       ]
      },
      {
       "metadata": {},
       "output_type": "display_data",
       "png": "[encoded data removed]",
       "text": [
        "<matplotlib.figure.Figure at 0x42a2110>"
       ]
      }
     ],
     "prompt_number": 24
    },
    {
     "cell_type": "heading",
     "level": 4,
     "metadata": {},
     "source": [
      "Gr\u00e1fico do Y pela feature 2"
     ]
    },
    {
     "cell_type": "code",
     "collapsed": false,
     "input": [
      "pl.scatter(q2_dados['num quartos'], q2_dados['pre\u00e7o'])"
     ],
     "language": "python",
     "metadata": {},
     "outputs": [
      {
       "metadata": {},
       "output_type": "pyout",
       "prompt_number": 25,
       "text": [
        "<matplotlib.collections.PathCollection at 0x4f77bd0>"
       ]
      },
      {
       "metadata": {},
       "output_type": "display_data",
       "png": "[encoded data removed]",
       "text": [
        "<matplotlib.figure.Figure at 0x4ec1310>"
       ]
      }
     ],
     "prompt_number": 25
    },
    {
     "cell_type": "heading",
     "level": 4,
     "metadata": {},
     "source": [
      "Execu\u00e7\u00e3o do gradiente descendente estoc\u00e1stico"
     ]
    },
    {
     "cell_type": "code",
     "collapsed": false,
     "input": [
      "ws, eqms = grad_desc_estoq(q2_dados, alfa=0.01, epocas=100)"
     ],
     "language": "python",
     "metadata": {},
     "outputs": [],
     "prompt_number": 26
    },
    {
     "cell_type": "heading",
     "level": 4,
     "metadata": {},
     "source": [
      "Plot do gr\u00e1fico de EQM por \u00e9poca"
     ]
    },
    {
     "cell_type": "code",
     "collapsed": false,
     "input": [
      "pl.plot(xrange(len(eqms)), eqms)"
     ],
     "language": "python",
     "metadata": {},
     "outputs": [
      {
       "metadata": {},
       "output_type": "pyout",
       "prompt_number": 27,
       "text": [
        "[<matplotlib.lines.Line2D at 0x52f9350>]"
       ]
      },
      {
       "metadata": {},
       "output_type": "display_data",
       "png": "[encoded data removed]",
       "text": [
        "<matplotlib.figure.Figure at 0x4f81c50>"
       ]
      }
     ],
     "prompt_number": 27
    },
    {
     "cell_type": "heading",
     "level": 4,
     "metadata": {},
     "source": [
      "Coeficientes"
     ]
    },
    {
     "cell_type": "code",
     "collapsed": false,
     "input": [
      "print ws"
     ],
     "language": "python",
     "metadata": {},
     "outputs": [
      {
       "output_type": "stream",
       "stream": "stdout",
       "text": [
        "[ 0.75529514  1.36419151 -0.08169286]\n"
       ]
      }
     ],
     "prompt_number": 28
    },
    {
     "cell_type": "heading",
     "level": 4,
     "metadata": {},
     "source": [
      "Coment\u00e1rios: Atrav\u00e9s do gr\u00e1fico \u201c\u00e9pocas x EQM\u201d \u00e9 poss\u00edvel \n",
      "\n",
      "verificar que o algoritmo est\u00e1 \u201caprendendo\u201d ? Comente."
     ]
    },
    {
     "cell_type": "raw",
     "metadata": {},
     "source": [
      "Mesma resposta para a mesma pergunta da quest\u00e3o 1."
     ]
    },
    {
     "cell_type": "heading",
     "level": 4,
     "metadata": {},
     "source": [
      "Regress\u00e3o com o m\u00e9todo dos m\u00ednimos quadrados"
     ]
    },
    {
     "cell_type": "code",
     "collapsed": false,
     "input": [
      "def add_ones_left(dados):\n",
      "    \n",
      "    dados.insert(0, 'indep', 1.)\n",
      "    \n",
      "def lsm(dados):    \n",
      "    # 1s da coluna do peso w0\n",
      "    add_ones_left(dados)\n",
      "    \n",
      "    X = np.array(dados[dados.columns[:-1]])\n",
      "    Xt = np.transpose(X)\n",
      "    Xt_dot_X = np.dot(Xt, X)\n",
      "    Xt_dot_X_inv = np.linalg.solve(Xt_dot_X, np.identity(len(Xt_dot_X)))\n",
      "    Xt_dot_X_inv_Xt = np.dot(Xt_dot_X_inv, Xt)\n",
      "    \n",
      "    return np.dot(Xt_dot_X_inv_Xt, np.array(dados[dados.columns[-1]]))"
     ],
     "language": "python",
     "metadata": {},
     "outputs": [],
     "prompt_number": 40
    },
    {
     "cell_type": "heading",
     "level": 4,
     "metadata": {},
     "source": [
      "- Encontre os coeficientes da regress\u00e3o utilizando o m\u00e9todo dos \n",
      "\n",
      "m\u00ednimos quadrados."
     ]
    },
    {
     "cell_type": "code",
     "collapsed": false,
     "input": [
      "lsm(q2_dados)"
     ],
     "language": "python",
     "metadata": {},
     "outputs": [
      {
       "metadata": {},
       "output_type": "pyout",
       "prompt_number": 42,
       "text": [
        "array([ 0.8959791 ,  1.39210674, -0.08738019])"
       ]
      }
     ],
     "prompt_number": 42
    },
    {
     "cell_type": "heading",
     "level": 4,
     "metadata": {},
     "source": [
      "Utilizando o modelo do scikit-learn"
     ]
    },
    {
     "cell_type": "code",
     "collapsed": false,
     "input": [
      "from sklearn import linear_model\n",
      "clf = linear_model.LinearRegression()\n",
      "clf.fit(q2_dados[q2_dados.columns[:-1]], q2_dados[q2_dados.columns[-1]])\n",
      "\n",
      "print clf.coef_"
     ],
     "language": "python",
     "metadata": {},
     "outputs": [
      {
       "output_type": "stream",
       "stream": "stdout",
       "text": [
        "[ 0.          1.39210674 -0.08738019]\n"
       ]
      }
     ],
     "prompt_number": 44
    },
    {
     "cell_type": "heading",
     "level": 4,
     "metadata": {},
     "source": [
      "Coment\u00e1rios: Os valores obtidos pelos dois m\u00e9todos s\u00e3o iguais? \n",
      "\n",
      "Comente."
     ]
    },
    {
     "cell_type": "raw",
     "metadata": {},
     "source": [
      "N\u00e3o. O segundo m\u00e9todo oferece um resultado mais preciso que o primeiro, mas tem um custo computacional maior."
     ]
    },
    {
     "cell_type": "heading",
     "level": 1,
     "metadata": {},
     "source": [
      "Quest\u00e3o 3"
     ]
    },
    {
     "cell_type": "code",
     "collapsed": false,
     "input": [
      "q3_dados = pd.read_csv(Q3_FILEPATH, sep=' ', names=Q3_COLUMNS)"
     ],
     "language": "python",
     "metadata": {},
     "outputs": [],
     "prompt_number": 46
    },
    {
     "cell_type": "heading",
     "level": 4,
     "metadata": {},
     "source": [
      "Divis\u00e3o dos dados em training-set e test-set"
     ]
    },
    {
     "cell_type": "code",
     "collapsed": false,
     "input": [
      "def random_partition(dados, n):\n",
      "    \n",
      "    rows = random.sample(dados.index, n)\n",
      "    \n",
      "    dados_n = dados.ix[rows]\n",
      "    dados_t_n = dados.drop(rows)\n",
      "    \n",
      "    return dados_n, dados_t_n\n",
      "\n",
      "q3_dados_treino, q3_dados_teste = random_partition(q3_dados, 30)"
     ],
     "language": "python",
     "metadata": {},
     "outputs": [],
     "prompt_number": 47
    },
    {
     "cell_type": "heading",
     "level": 4,
     "metadata": {},
     "source": [
      "- Encontre os coeficientes da regress\u00e3o utilizando o m\u00e9todo dos \n",
      "\n",
      "m\u00ednimos quadrados regularizado para os seguintes valores de \u03bb = [0 1 2 3 4 \n",
      "\n",
      "5]. Utilize o conjunto de treinamento."
     ]
    },
    {
     "cell_type": "code",
     "collapsed": false,
     "input": [
      "def lsm_regularizado(dados, lamb=0.):    \n",
      "    # 1s da coluna do peso w0\n",
      "    add_ones_left(dados)\n",
      "    \n",
      "    X = np.array(dados[dados.columns[:-1]])\n",
      "    Xt = np.transpose(X)\n",
      "    Xt_dot_X = np.dot(Xt, X)\n",
      "    Xt_dot_X_plus_lamb = Xt_dot_X + np.identity(Xt_dot_X.shape[0])*lamb\n",
      "    Xt_dot_X_inv = np.linalg.solve(Xt_dot_X_plus_lamb, np.identity(len(Xt_dot_X_plus_lamb)))\n",
      "    Xt_dot_X_inv_Xt = np.dot(Xt_dot_X_inv, Xt)\n",
      "    \n",
      "    return np.dot(Xt_dot_X_inv_Xt, np.array(dados[dados.columns[-1]]))"
     ],
     "language": "python",
     "metadata": {},
     "outputs": [],
     "prompt_number": 50
    },
    {
     "cell_type": "code",
     "collapsed": false,
     "input": [
      "coeficientes = []\n",
      "lambdas = np.linspace(0, 50, 50)\n",
      "\n",
      "for lamb in lambdas:\n",
      "    coeficientes.append([lamb, lsm_regularizado(q3_dados_treino, lamb=lamb)])"
     ],
     "language": "python",
     "metadata": {},
     "outputs": [
      {
       "ename": "Exception",
       "evalue": "cannot insert indep, already exists",
       "output_type": "pyerr",
       "traceback": [
        "\u001b[1;31m---------------------------------------------------------------------------\u001b[0m\n\u001b[1;31mException\u001b[0m                                 Traceback (most recent call last)",
        "\u001b[1;32m<ipython-input-52-f5aba470d3b6>\u001b[0m in \u001b[0;36m<module>\u001b[1;34m()\u001b[0m\n\u001b[0;32m      3\u001b[0m \u001b[1;33m\u001b[0m\u001b[0m\n\u001b[0;32m      4\u001b[0m \u001b[1;32mfor\u001b[0m \u001b[0mlamb\u001b[0m \u001b[1;32min\u001b[0m \u001b[0mlambdas\u001b[0m\u001b[1;33m:\u001b[0m\u001b[1;33m\u001b[0m\u001b[0m\n\u001b[1;32m----> 5\u001b[1;33m     \u001b[0mcoeficientes\u001b[0m\u001b[1;33m.\u001b[0m\u001b[0mappend\u001b[0m\u001b[1;33m(\u001b[0m\u001b[1;33m[\u001b[0m\u001b[0mlamb\u001b[0m\u001b[1;33m,\u001b[0m \u001b[0mlsm_regularizado\u001b[0m\u001b[1;33m(\u001b[0m\u001b[0mq3_dados_treino\u001b[0m\u001b[1;33m,\u001b[0m \u001b[0mlamb\u001b[0m\u001b[1;33m=\u001b[0m\u001b[0mlamb\u001b[0m\u001b[1;33m)\u001b[0m\u001b[1;33m]\u001b[0m\u001b[1;33m)\u001b[0m\u001b[1;33m\u001b[0m\u001b[0m\n\u001b[0m",
        "\u001b[1;32m<ipython-input-50-debff5135bde>\u001b[0m in \u001b[0;36mlsm_regularizado\u001b[1;34m(dados, lamb)\u001b[0m\n\u001b[0;32m      1\u001b[0m \u001b[1;32mdef\u001b[0m \u001b[0mlsm_regularizado\u001b[0m\u001b[1;33m(\u001b[0m\u001b[0mdados\u001b[0m\u001b[1;33m,\u001b[0m \u001b[0mlamb\u001b[0m\u001b[1;33m=\u001b[0m\u001b[1;36m0.\u001b[0m\u001b[1;33m)\u001b[0m\u001b[1;33m:\u001b[0m\u001b[1;33m\u001b[0m\u001b[0m\n\u001b[0;32m      2\u001b[0m     \u001b[1;31m# 1s da coluna do peso w0\u001b[0m\u001b[1;33m\u001b[0m\u001b[1;33m\u001b[0m\u001b[0m\n\u001b[1;32m----> 3\u001b[1;33m     \u001b[0madd_ones_left\u001b[0m\u001b[1;33m(\u001b[0m\u001b[0mdados\u001b[0m\u001b[1;33m)\u001b[0m\u001b[1;33m\u001b[0m\u001b[0m\n\u001b[0m\u001b[0;32m      4\u001b[0m \u001b[1;33m\u001b[0m\u001b[0m\n\u001b[0;32m      5\u001b[0m     \u001b[0mX\u001b[0m \u001b[1;33m=\u001b[0m \u001b[0mnp\u001b[0m\u001b[1;33m.\u001b[0m\u001b[0marray\u001b[0m\u001b[1;33m(\u001b[0m\u001b[0mdados\u001b[0m\u001b[1;33m[\u001b[0m\u001b[0mdados\u001b[0m\u001b[1;33m.\u001b[0m\u001b[0mcolumns\u001b[0m\u001b[1;33m[\u001b[0m\u001b[1;33m:\u001b[0m\u001b[1;33m-\u001b[0m\u001b[1;36m1\u001b[0m\u001b[1;33m]\u001b[0m\u001b[1;33m]\u001b[0m\u001b[1;33m)\u001b[0m\u001b[1;33m\u001b[0m\u001b[0m\n",
        "\u001b[1;32m<ipython-input-40-019d3fb83318>\u001b[0m in \u001b[0;36madd_ones_left\u001b[1;34m(dados)\u001b[0m\n\u001b[0;32m      1\u001b[0m \u001b[1;32mdef\u001b[0m \u001b[0madd_ones_left\u001b[0m\u001b[1;33m(\u001b[0m\u001b[0mdados\u001b[0m\u001b[1;33m)\u001b[0m\u001b[1;33m:\u001b[0m\u001b[1;33m\u001b[0m\u001b[0m\n\u001b[0;32m      2\u001b[0m \u001b[1;33m\u001b[0m\u001b[0m\n\u001b[1;32m----> 3\u001b[1;33m     \u001b[0mdados\u001b[0m\u001b[1;33m.\u001b[0m\u001b[0minsert\u001b[0m\u001b[1;33m(\u001b[0m\u001b[1;36m0\u001b[0m\u001b[1;33m,\u001b[0m \u001b[1;34m'indep'\u001b[0m\u001b[1;33m,\u001b[0m \u001b[1;36m1.\u001b[0m\u001b[1;33m)\u001b[0m\u001b[1;33m\u001b[0m\u001b[0m\n\u001b[0m\u001b[0;32m      4\u001b[0m \u001b[1;33m\u001b[0m\u001b[0m\n\u001b[0;32m      5\u001b[0m \u001b[1;32mdef\u001b[0m \u001b[0mlsm\u001b[0m\u001b[1;33m(\u001b[0m\u001b[0mdados\u001b[0m\u001b[1;33m)\u001b[0m\u001b[1;33m:\u001b[0m\u001b[1;33m\u001b[0m\u001b[0m\n",
        "\u001b[1;32m/usr/local/lib/python2.7/dist-packages/pandas/core/frame.pyc\u001b[0m in \u001b[0;36minsert\u001b[1;34m(self, loc, column, value, allow_duplicates)\u001b[0m\n\u001b[0;32m   2179\u001b[0m         \"\"\"\n\u001b[0;32m   2180\u001b[0m         \u001b[0mvalue\u001b[0m \u001b[1;33m=\u001b[0m \u001b[0mself\u001b[0m\u001b[1;33m.\u001b[0m\u001b[0m_sanitize_column\u001b[0m\u001b[1;33m(\u001b[0m\u001b[0mcolumn\u001b[0m\u001b[1;33m,\u001b[0m \u001b[0mvalue\u001b[0m\u001b[1;33m)\u001b[0m\u001b[1;33m\u001b[0m\u001b[0m\n\u001b[1;32m-> 2181\u001b[1;33m         \u001b[0mself\u001b[0m\u001b[1;33m.\u001b[0m\u001b[0m_data\u001b[0m\u001b[1;33m.\u001b[0m\u001b[0minsert\u001b[0m\u001b[1;33m(\u001b[0m\u001b[0mloc\u001b[0m\u001b[1;33m,\u001b[0m \u001b[0mcolumn\u001b[0m\u001b[1;33m,\u001b[0m \u001b[0mvalue\u001b[0m\u001b[1;33m,\u001b[0m \u001b[0mallow_duplicates\u001b[0m\u001b[1;33m=\u001b[0m\u001b[0mallow_duplicates\u001b[0m\u001b[1;33m)\u001b[0m\u001b[1;33m\u001b[0m\u001b[0m\n\u001b[0m\u001b[0;32m   2182\u001b[0m \u001b[1;33m\u001b[0m\u001b[0m\n\u001b[0;32m   2183\u001b[0m     \u001b[1;32mdef\u001b[0m \u001b[0m_sanitize_column\u001b[0m\u001b[1;33m(\u001b[0m\u001b[0mself\u001b[0m\u001b[1;33m,\u001b[0m \u001b[0mkey\u001b[0m\u001b[1;33m,\u001b[0m \u001b[0mvalue\u001b[0m\u001b[1;33m)\u001b[0m\u001b[1;33m:\u001b[0m\u001b[1;33m\u001b[0m\u001b[0m\n",
        "\u001b[1;32m/usr/local/lib/python2.7/dist-packages/pandas/core/internals.pyc\u001b[0m in \u001b[0;36minsert\u001b[1;34m(self, loc, item, value, allow_duplicates)\u001b[0m\n\u001b[0;32m   1786\u001b[0m \u001b[1;33m\u001b[0m\u001b[0m\n\u001b[0;32m   1787\u001b[0m         \u001b[1;32mif\u001b[0m \u001b[1;32mnot\u001b[0m \u001b[0mallow_duplicates\u001b[0m \u001b[1;32mand\u001b[0m \u001b[0mitem\u001b[0m \u001b[1;32min\u001b[0m \u001b[0mself\u001b[0m\u001b[1;33m.\u001b[0m\u001b[0mitems\u001b[0m\u001b[1;33m:\u001b[0m\u001b[1;33m\u001b[0m\u001b[0m\n\u001b[1;32m-> 1788\u001b[1;33m             \u001b[1;32mraise\u001b[0m \u001b[0mException\u001b[0m\u001b[1;33m(\u001b[0m\u001b[1;34m'cannot insert %s, already exists'\u001b[0m \u001b[1;33m%\u001b[0m \u001b[0mitem\u001b[0m\u001b[1;33m)\u001b[0m\u001b[1;33m\u001b[0m\u001b[0m\n\u001b[0m\u001b[0;32m   1789\u001b[0m \u001b[1;33m\u001b[0m\u001b[0m\n\u001b[0;32m   1790\u001b[0m         \u001b[1;32mtry\u001b[0m\u001b[1;33m:\u001b[0m\u001b[1;33m\u001b[0m\u001b[0m\n",
        "\u001b[1;31mException\u001b[0m: cannot insert indep, already exists"
       ]
      }
     ],
     "prompt_number": 52
    },
    {
     "cell_type": "code",
     "collapsed": false,
     "input": [
      "coefs_frame = []\n",
      "from pandas import DataFrame\n",
      "\n",
      "coefs = np.array([coef for [_, coef] in coeficientes])\n",
      "\n",
      "as_dict = {\"w0\":coefs[:,0], \"w1\":coefs[:,1], \"w2\":coefs[:,2], \"w3\":coefs[:,3], \"w4\":coefs[:,4], \"w5\":coefs[:,5]}\n",
      "\n",
      "coefs_frame = DataFrame(data=as_dict)\n",
      "\n",
      "coefs_frame"
     ],
     "language": "python",
     "metadata": {},
     "outputs": [
      {
       "output_type": "stream",
       "stream": "stderr",
       "text": [
        "/usr/local/lib/python2.7/dist-packages/pandas/core/config.py:570: DeprecationWarning: height has been deprecated.\n",
        "\n",
        "  warnings.warn(d.msg, DeprecationWarning)\n",
        "/usr/local/lib/python2.7/dist-packages/pandas/core/config.py:570: DeprecationWarning: height has been deprecated.\n",
        "\n",
        "  warnings.warn(d.msg, DeprecationWarning)\n"
       ]
      },
      {
       "html": [
        "<div style=\"max-height:1000px;max-width:1500px;overflow:auto;\">\n",
        "<table border=\"1\" class=\"dataframe\">\n",
        "  <thead>\n",
        "    <tr style=\"text-align: right;\">\n",
        "      <th></th>\n",
        "      <th>w0</th>\n",
        "      <th>w1</th>\n",
        "      <th>w2</th>\n",
        "      <th>w3</th>\n",
        "      <th>w4</th>\n",
        "      <th>w5</th>\n",
        "    </tr>\n",
        "  </thead>\n",
        "  <tbody>\n",
        "    <tr>\n",
        "      <th>0 </th>\n",
        "      <td> 0.792989</td>\n",
        "      <td> 2.056501</td>\n",
        "      <td> 0.121439</td>\n",
        "      <td>-1.161379</td>\n",
        "      <td> 0.062729</td>\n",
        "      <td>-0.391102</td>\n",
        "    </tr>\n",
        "    <tr>\n",
        "      <th>1 </th>\n",
        "      <td> 0.110774</td>\n",
        "      <td> 1.322967</td>\n",
        "      <td> 0.254605</td>\n",
        "      <td> 0.223671</td>\n",
        "      <td> 0.049221</td>\n",
        "      <td>-0.251588</td>\n",
        "    </tr>\n",
        "    <tr>\n",
        "      <th>2 </th>\n",
        "      <td> 0.097591</td>\n",
        "      <td> 1.149168</td>\n",
        "      <td> 0.274762</td>\n",
        "      <td> 0.288014</td>\n",
        "      <td> 0.059243</td>\n",
        "      <td>-0.118895</td>\n",
        "    </tr>\n",
        "    <tr>\n",
        "      <th>3 </th>\n",
        "      <td> 0.098218</td>\n",
        "      <td> 1.038245</td>\n",
        "      <td> 0.292536</td>\n",
        "      <td> 0.299107</td>\n",
        "      <td> 0.071253</td>\n",
        "      <td>-0.034112</td>\n",
        "    </tr>\n",
        "    <tr>\n",
        "      <th>4 </th>\n",
        "      <td> 0.100673</td>\n",
        "      <td> 0.957737</td>\n",
        "      <td> 0.308361</td>\n",
        "      <td> 0.298220</td>\n",
        "      <td> 0.082772</td>\n",
        "      <td> 0.023718</td>\n",
        "    </tr>\n",
        "    <tr>\n",
        "      <th>5 </th>\n",
        "      <td> 0.103362</td>\n",
        "      <td> 0.895605</td>\n",
        "      <td> 0.322303</td>\n",
        "      <td> 0.293798</td>\n",
        "      <td> 0.093180</td>\n",
        "      <td> 0.065248</td>\n",
        "    </tr>\n",
        "    <tr>\n",
        "      <th>6 </th>\n",
        "      <td> 0.105946</td>\n",
        "      <td> 0.845768</td>\n",
        "      <td> 0.334560</td>\n",
        "      <td> 0.288373</td>\n",
        "      <td> 0.102394</td>\n",
        "      <td> 0.096266</td>\n",
        "    </tr>\n",
        "    <tr>\n",
        "      <th>7 </th>\n",
        "      <td> 0.108342</td>\n",
        "      <td> 0.804684</td>\n",
        "      <td> 0.345356</td>\n",
        "      <td> 0.282839</td>\n",
        "      <td> 0.110496</td>\n",
        "      <td> 0.120153</td>\n",
        "    </tr>\n",
        "    <tr>\n",
        "      <th>8 </th>\n",
        "      <td> 0.110536</td>\n",
        "      <td> 0.770109</td>\n",
        "      <td> 0.354900</td>\n",
        "      <td> 0.277528</td>\n",
        "      <td> 0.117614</td>\n",
        "      <td> 0.139004</td>\n",
        "    </tr>\n",
        "    <tr>\n",
        "      <th>9 </th>\n",
        "      <td> 0.112535</td>\n",
        "      <td> 0.740531</td>\n",
        "      <td> 0.363372</td>\n",
        "      <td> 0.272558</td>\n",
        "      <td> 0.123878</td>\n",
        "      <td> 0.154180</td>\n",
        "    </tr>\n",
        "    <tr>\n",
        "      <th>10</th>\n",
        "      <td> 0.114356</td>\n",
        "      <td> 0.714887</td>\n",
        "      <td> 0.370927</td>\n",
        "      <td> 0.267954</td>\n",
        "      <td> 0.129408</td>\n",
        "      <td> 0.166603</td>\n",
        "    </tr>\n",
        "    <tr>\n",
        "      <th>11</th>\n",
        "      <td> 0.116015</td>\n",
        "      <td> 0.692406</td>\n",
        "      <td> 0.377690</td>\n",
        "      <td> 0.263707</td>\n",
        "      <td> 0.134306</td>\n",
        "      <td> 0.176915</td>\n",
        "    </tr>\n",
        "    <tr>\n",
        "      <th>12</th>\n",
        "      <td> 0.117528</td>\n",
        "      <td> 0.672509</td>\n",
        "      <td> 0.383768</td>\n",
        "      <td> 0.259792</td>\n",
        "      <td> 0.138660</td>\n",
        "      <td> 0.185577</td>\n",
        "    </tr>\n",
        "    <tr>\n",
        "      <th>13</th>\n",
        "      <td> 0.118909</td>\n",
        "      <td> 0.654755</td>\n",
        "      <td> 0.389249</td>\n",
        "      <td> 0.256179</td>\n",
        "      <td> 0.142546</td>\n",
        "      <td> 0.192928</td>\n",
        "    </tr>\n",
        "    <tr>\n",
        "      <th>14</th>\n",
        "      <td> 0.120173</td>\n",
        "      <td> 0.638799</td>\n",
        "      <td> 0.394209</td>\n",
        "      <td> 0.252838</td>\n",
        "      <td> 0.146025</td>\n",
        "      <td> 0.199223</td>\n",
        "    </tr>\n",
        "    <tr>\n",
        "      <th>15</th>\n",
        "      <td> 0.121330</td>\n",
        "      <td> 0.624368</td>\n",
        "      <td> 0.398709</td>\n",
        "      <td> 0.249742</td>\n",
        "      <td> 0.149150</td>\n",
        "      <td> 0.204654</td>\n",
        "    </tr>\n",
        "    <tr>\n",
        "      <th>16</th>\n",
        "      <td> 0.122391</td>\n",
        "      <td> 0.611244</td>\n",
        "      <td> 0.402804</td>\n",
        "      <td> 0.246865</td>\n",
        "      <td> 0.151967</td>\n",
        "      <td> 0.209372</td>\n",
        "    </tr>\n",
        "    <tr>\n",
        "      <th>17</th>\n",
        "      <td> 0.123366</td>\n",
        "      <td> 0.599247</td>\n",
        "      <td> 0.406538</td>\n",
        "      <td> 0.244184</td>\n",
        "      <td> 0.154512</td>\n",
        "      <td> 0.213495</td>\n",
        "    </tr>\n",
        "    <tr>\n",
        "      <th>18</th>\n",
        "      <td> 0.124263</td>\n",
        "      <td> 0.588231</td>\n",
        "      <td> 0.409950</td>\n",
        "      <td> 0.241680</td>\n",
        "      <td> 0.156818</td>\n",
        "      <td> 0.217118</td>\n",
        "    </tr>\n",
        "    <tr>\n",
        "      <th>19</th>\n",
        "      <td> 0.125089</td>\n",
        "      <td> 0.578074</td>\n",
        "      <td> 0.413075</td>\n",
        "      <td> 0.239335</td>\n",
        "      <td> 0.158913</td>\n",
        "      <td> 0.220315</td>\n",
        "    </tr>\n",
        "    <tr>\n",
        "      <th>20</th>\n",
        "      <td> 0.125851</td>\n",
        "      <td> 0.568673</td>\n",
        "      <td> 0.415941</td>\n",
        "      <td> 0.237132</td>\n",
        "      <td> 0.160820</td>\n",
        "      <td> 0.223148</td>\n",
        "    </tr>\n",
        "    <tr>\n",
        "      <th>21</th>\n",
        "      <td> 0.126553</td>\n",
        "      <td> 0.559941</td>\n",
        "      <td> 0.418574</td>\n",
        "      <td> 0.235060</td>\n",
        "      <td> 0.162559</td>\n",
        "      <td> 0.225668</td>\n",
        "    </tr>\n",
        "    <tr>\n",
        "      <th>22</th>\n",
        "      <td> 0.127202</td>\n",
        "      <td> 0.551807</td>\n",
        "      <td> 0.420996</td>\n",
        "      <td> 0.233104</td>\n",
        "      <td> 0.164149</td>\n",
        "      <td> 0.227916</td>\n",
        "    </tr>\n",
        "    <tr>\n",
        "      <th>23</th>\n",
        "      <td> 0.127802</td>\n",
        "      <td> 0.544205</td>\n",
        "      <td> 0.423226</td>\n",
        "      <td> 0.231255</td>\n",
        "      <td> 0.165605</td>\n",
        "      <td> 0.229929</td>\n",
        "    </tr>\n",
        "    <tr>\n",
        "      <th>24</th>\n",
        "      <td> 0.128356</td>\n",
        "      <td> 0.537082</td>\n",
        "      <td> 0.425281</td>\n",
        "      <td> 0.229503</td>\n",
        "      <td> 0.166939</td>\n",
        "      <td> 0.231733</td>\n",
        "    </tr>\n",
        "    <tr>\n",
        "      <th>25</th>\n",
        "      <td> 0.128869</td>\n",
        "      <td> 0.530391</td>\n",
        "      <td> 0.427177</td>\n",
        "      <td> 0.227840</td>\n",
        "      <td> 0.168164</td>\n",
        "      <td> 0.233356</td>\n",
        "    </tr>\n",
        "    <tr>\n",
        "      <th>26</th>\n",
        "      <td> 0.129344</td>\n",
        "      <td> 0.524091</td>\n",
        "      <td> 0.428927</td>\n",
        "      <td> 0.226258</td>\n",
        "      <td> 0.169291</td>\n",
        "      <td> 0.234816</td>\n",
        "    </tr>\n",
        "    <tr>\n",
        "      <th>27</th>\n",
        "      <td> 0.129784</td>\n",
        "      <td> 0.518145</td>\n",
        "      <td> 0.430544</td>\n",
        "      <td> 0.224751</td>\n",
        "      <td> 0.170327</td>\n",
        "      <td> 0.236134</td>\n",
        "    </tr>\n",
        "    <tr>\n",
        "      <th>28</th>\n",
        "      <td> 0.130191</td>\n",
        "      <td> 0.512523</td>\n",
        "      <td> 0.432038</td>\n",
        "      <td> 0.223312</td>\n",
        "      <td> 0.171282</td>\n",
        "      <td> 0.237324</td>\n",
        "    </tr>\n",
        "    <tr>\n",
        "      <th>29</th>\n",
        "      <td> 0.130567</td>\n",
        "      <td> 0.507195</td>\n",
        "      <td> 0.433418</td>\n",
        "      <td> 0.221936</td>\n",
        "      <td> 0.172162</td>\n",
        "      <td> 0.238399</td>\n",
        "    </tr>\n",
        "    <tr>\n",
        "      <th>30</th>\n",
        "      <td> 0.130916</td>\n",
        "      <td> 0.502138</td>\n",
        "      <td> 0.434693</td>\n",
        "      <td> 0.220619</td>\n",
        "      <td> 0.172974</td>\n",
        "      <td> 0.239372</td>\n",
        "    </tr>\n",
        "    <tr>\n",
        "      <th>31</th>\n",
        "      <td> 0.131239</td>\n",
        "      <td> 0.497329</td>\n",
        "      <td> 0.435872</td>\n",
        "      <td> 0.219356</td>\n",
        "      <td> 0.173724</td>\n",
        "      <td> 0.240252</td>\n",
        "    </tr>\n",
        "    <tr>\n",
        "      <th>32</th>\n",
        "      <td> 0.131537</td>\n",
        "      <td> 0.492749</td>\n",
        "      <td> 0.436961</td>\n",
        "      <td> 0.218142</td>\n",
        "      <td> 0.174415</td>\n",
        "      <td> 0.241048</td>\n",
        "    </tr>\n",
        "    <tr>\n",
        "      <th>33</th>\n",
        "      <td> 0.131813</td>\n",
        "      <td> 0.488380</td>\n",
        "      <td> 0.437967</td>\n",
        "      <td> 0.216976</td>\n",
        "      <td> 0.175054</td>\n",
        "      <td> 0.241769</td>\n",
        "    </tr>\n",
        "    <tr>\n",
        "      <th>34</th>\n",
        "      <td> 0.132067</td>\n",
        "      <td> 0.484206</td>\n",
        "      <td> 0.438895</td>\n",
        "      <td> 0.215852</td>\n",
        "      <td> 0.175645</td>\n",
        "      <td> 0.242421</td>\n",
        "    </tr>\n",
        "    <tr>\n",
        "      <th>35</th>\n",
        "      <td> 0.132302</td>\n",
        "      <td> 0.480213</td>\n",
        "      <td> 0.439750</td>\n",
        "      <td> 0.214769</td>\n",
        "      <td> 0.176190</td>\n",
        "      <td> 0.243010</td>\n",
        "    </tr>\n",
        "    <tr>\n",
        "      <th>36</th>\n",
        "      <td> 0.132518</td>\n",
        "      <td> 0.476388</td>\n",
        "      <td> 0.440539</td>\n",
        "      <td> 0.213724</td>\n",
        "      <td> 0.176693</td>\n",
        "      <td> 0.243542</td>\n",
        "    </tr>\n",
        "    <tr>\n",
        "      <th>37</th>\n",
        "      <td> 0.132718</td>\n",
        "      <td> 0.472719</td>\n",
        "      <td> 0.441264</td>\n",
        "      <td> 0.212714</td>\n",
        "      <td> 0.177158</td>\n",
        "      <td> 0.244021</td>\n",
        "    </tr>\n",
        "    <tr>\n",
        "      <th>38</th>\n",
        "      <td> 0.132900</td>\n",
        "      <td> 0.469196</td>\n",
        "      <td> 0.441931</td>\n",
        "      <td> 0.211737</td>\n",
        "      <td> 0.177587</td>\n",
        "      <td> 0.244453</td>\n",
        "    </tr>\n",
        "    <tr>\n",
        "      <th>39</th>\n",
        "      <td> 0.133068</td>\n",
        "      <td> 0.465809</td>\n",
        "      <td> 0.442543</td>\n",
        "      <td> 0.210791</td>\n",
        "      <td> 0.177982</td>\n",
        "      <td> 0.244840</td>\n",
        "    </tr>\n",
        "    <tr>\n",
        "      <th>40</th>\n",
        "      <td> 0.133221</td>\n",
        "      <td> 0.462549</td>\n",
        "      <td> 0.443102</td>\n",
        "      <td> 0.209874</td>\n",
        "      <td> 0.178347</td>\n",
        "      <td> 0.245187</td>\n",
        "    </tr>\n",
        "    <tr>\n",
        "      <th>41</th>\n",
        "      <td> 0.133361</td>\n",
        "      <td> 0.459408</td>\n",
        "      <td> 0.443614</td>\n",
        "      <td> 0.208985</td>\n",
        "      <td> 0.178682</td>\n",
        "      <td> 0.245496</td>\n",
        "    </tr>\n",
        "    <tr>\n",
        "      <th>42</th>\n",
        "      <td> 0.133488</td>\n",
        "      <td> 0.456379</td>\n",
        "      <td> 0.444079</td>\n",
        "      <td> 0.208121</td>\n",
        "      <td> 0.178991</td>\n",
        "      <td> 0.245771</td>\n",
        "    </tr>\n",
        "    <tr>\n",
        "      <th>43</th>\n",
        "      <td> 0.133603</td>\n",
        "      <td> 0.453455</td>\n",
        "      <td> 0.444502</td>\n",
        "      <td> 0.207282</td>\n",
        "      <td> 0.179274</td>\n",
        "      <td> 0.246014</td>\n",
        "    </tr>\n",
        "    <tr>\n",
        "      <th>44</th>\n",
        "      <td> 0.133707</td>\n",
        "      <td> 0.450629</td>\n",
        "      <td> 0.444884</td>\n",
        "      <td> 0.206466</td>\n",
        "      <td> 0.179533</td>\n",
        "      <td> 0.246227</td>\n",
        "    </tr>\n",
        "    <tr>\n",
        "      <th>45</th>\n",
        "      <td> 0.133800</td>\n",
        "      <td> 0.447897</td>\n",
        "      <td> 0.445228</td>\n",
        "      <td> 0.205671</td>\n",
        "      <td> 0.179771</td>\n",
        "      <td> 0.246412</td>\n",
        "    </tr>\n",
        "    <tr>\n",
        "      <th>46</th>\n",
        "      <td> 0.133883</td>\n",
        "      <td> 0.445252</td>\n",
        "      <td> 0.445536</td>\n",
        "      <td> 0.204897</td>\n",
        "      <td> 0.179987</td>\n",
        "      <td> 0.246572</td>\n",
        "    </tr>\n",
        "    <tr>\n",
        "      <th>47</th>\n",
        "      <td> 0.133956</td>\n",
        "      <td> 0.442690</td>\n",
        "      <td> 0.445810</td>\n",
        "      <td> 0.204143</td>\n",
        "      <td> 0.180184</td>\n",
        "      <td> 0.246707</td>\n",
        "    </tr>\n",
        "    <tr>\n",
        "      <th>48</th>\n",
        "      <td> 0.134021</td>\n",
        "      <td> 0.440206</td>\n",
        "      <td> 0.446052</td>\n",
        "      <td> 0.203407</td>\n",
        "      <td> 0.180363</td>\n",
        "      <td> 0.246821</td>\n",
        "    </tr>\n",
        "    <tr>\n",
        "      <th>49</th>\n",
        "      <td> 0.134076</td>\n",
        "      <td> 0.437797</td>\n",
        "      <td> 0.446264</td>\n",
        "      <td> 0.202689</td>\n",
        "      <td> 0.180524</td>\n",
        "      <td> 0.246914</td>\n",
        "    </tr>\n",
        "  </tbody>\n",
        "</table>\n",
        "</div>"
       ],
       "metadata": {},
       "output_type": "pyout",
       "prompt_number": 28,
       "text": [
        "          w0        w1        w2        w3        w4        w5\n",
        "0   0.792989  2.056501  0.121439 -1.161379  0.062729 -0.391102\n",
        "1   0.110774  1.322967  0.254605  0.223671  0.049221 -0.251588\n",
        "2   0.097591  1.149168  0.274762  0.288014  0.059243 -0.118895\n",
        "3   0.098218  1.038245  0.292536  0.299107  0.071253 -0.034112\n",
        "4   0.100673  0.957737  0.308361  0.298220  0.082772  0.023718\n",
        "5   0.103362  0.895605  0.322303  0.293798  0.093180  0.065248\n",
        "6   0.105946  0.845768  0.334560  0.288373  0.102394  0.096266\n",
        "7   0.108342  0.804684  0.345356  0.282839  0.110496  0.120153\n",
        "8   0.110536  0.770109  0.354900  0.277528  0.117614  0.139004\n",
        "9   0.112535  0.740531  0.363372  0.272558  0.123878  0.154180\n",
        "10  0.114356  0.714887  0.370927  0.267954  0.129408  0.166603\n",
        "11  0.116015  0.692406  0.377690  0.263707  0.134306  0.176915\n",
        "12  0.117528  0.672509  0.383768  0.259792  0.138660  0.185577\n",
        "13  0.118909  0.654755  0.389249  0.256179  0.142546  0.192928\n",
        "14  0.120173  0.638799  0.394209  0.252838  0.146025  0.199223\n",
        "15  0.121330  0.624368  0.398709  0.249742  0.149150  0.204654\n",
        "16  0.122391  0.611244  0.402804  0.246865  0.151967  0.209372\n",
        "17  0.123366  0.599247  0.406538  0.244184  0.154512  0.213495\n",
        "18  0.124263  0.588231  0.409950  0.241680  0.156818  0.217118\n",
        "19  0.125089  0.578074  0.413075  0.239335  0.158913  0.220315\n",
        "20  0.125851  0.568673  0.415941  0.237132  0.160820  0.223148\n",
        "21  0.126553  0.559941  0.418574  0.235060  0.162559  0.225668\n",
        "22  0.127202  0.551807  0.420996  0.233104  0.164149  0.227916\n",
        "23  0.127802  0.544205  0.423226  0.231255  0.165605  0.229929\n",
        "24  0.128356  0.537082  0.425281  0.229503  0.166939  0.231733\n",
        "25  0.128869  0.530391  0.427177  0.227840  0.168164  0.233356\n",
        "26  0.129344  0.524091  0.428927  0.226258  0.169291  0.234816\n",
        "27  0.129784  0.518145  0.430544  0.224751  0.170327  0.236134\n",
        "28  0.130191  0.512523  0.432038  0.223312  0.171282  0.237324\n",
        "29  0.130567  0.507195  0.433418  0.221936  0.172162  0.238399\n",
        "30  0.130916  0.502138  0.434693  0.220619  0.172974  0.239372\n",
        "31  0.131239  0.497329  0.435872  0.219356  0.173724  0.240252\n",
        "32  0.131537  0.492749  0.436961  0.218142  0.174415  0.241048\n",
        "33  0.131813  0.488380  0.437967  0.216976  0.175054  0.241769\n",
        "34  0.132067  0.484206  0.438895  0.215852  0.175645  0.242421\n",
        "35  0.132302  0.480213  0.439750  0.214769  0.176190  0.243010\n",
        "36  0.132518  0.476388  0.440539  0.213724  0.176693  0.243542\n",
        "37  0.132718  0.472719  0.441264  0.212714  0.177158  0.244021\n",
        "38  0.132900  0.469196  0.441931  0.211737  0.177587  0.244453\n",
        "39  0.133068  0.465809  0.442543  0.210791  0.177982  0.244840\n",
        "40  0.133221  0.462549  0.443102  0.209874  0.178347  0.245187\n",
        "41  0.133361  0.459408  0.443614  0.208985  0.178682  0.245496\n",
        "42  0.133488  0.456379  0.444079  0.208121  0.178991  0.245771\n",
        "43  0.133603  0.453455  0.444502  0.207282  0.179274  0.246014\n",
        "44  0.133707  0.450629  0.444884  0.206466  0.179533  0.246227\n",
        "45  0.133800  0.447897  0.445228  0.205671  0.179771  0.246412\n",
        "46  0.133883  0.445252  0.445536  0.204897  0.179987  0.246572\n",
        "47  0.133956  0.442690  0.445810  0.204143  0.180184  0.246707\n",
        "48  0.134021  0.440206  0.446052  0.203407  0.180363  0.246821\n",
        "49  0.134076  0.437797  0.446264  0.202689  0.180524  0.246914"
       ]
      }
     ],
     "prompt_number": 28
    },
    {
     "cell_type": "heading",
     "level": 4,
     "metadata": {},
     "source": [
      "Coment\u00e1rios: Quais vari\u00e1veis parecem ser menos relevantes para a \n",
      "\n",
      "regress\u00e3o?"
     ]
    },
    {
     "cell_type": "raw",
     "metadata": {},
     "source": [
      "Para cada lambda, ordenamos crescentemente as vari\u00e1veis, em valores absolutos, ficando com:"
     ]
    },
    {
     "cell_type": "code",
     "collapsed": false,
     "input": [
      "coefs_frame = []\n",
      "from pandas import DataFrame\n",
      "\n",
      "coefs = np.abs(np.array([coef for [_, coef] in coeficientes]))\n",
      "\n",
      "as_dicts = [{\"lambda 0\":coefs[0,:]}, {\"lambda 1\":coefs[1,:]}, {\"lambda 2\":coefs[2,:]}, {\"lambda 3\":coefs[3,:]}, {\"lambda 4\":coefs[4,:]}, {\"lambda 5\":coefs[5,:]}]\n",
      "\n",
      "coefs_frames = [DataFrame(data=as_dict) for as_dict in as_dicts]\n",
      "\n",
      "for i in xrange(6):\n",
      "    print coefs_frames[i].sort(\"lambda %s\" % str(i))"
     ],
     "language": "python",
     "metadata": {},
     "outputs": [
      {
       "output_type": "stream",
       "stream": "stderr",
       "text": [
        "/usr/local/lib/python2.7/dist-packages/pandas/core/config.py:570: DeprecationWarning: height has been deprecated.\n",
        "\n",
        "  warnings.warn(d.msg, DeprecationWarning)\n",
        "/usr/local/lib/python2.7/dist-packages/pandas/core/config.py:570: DeprecationWarning: height has been deprecated.\n",
        "\n",
        "  warnings.warn(d.msg, DeprecationWarning)\n",
        "/usr/local/lib/python2.7/dist-packages/pandas/core/config.py:570: DeprecationWarning: height has been deprecated.\n",
        "\n",
        "  warnings.warn(d.msg, DeprecationWarning)\n",
        "/usr/local/lib/python2.7/dist-packages/pandas/core/config.py:570: DeprecationWarning: height has been deprecated.\n",
        "\n",
        "  warnings.warn(d.msg, DeprecationWarning)\n",
        "/usr/local/lib/python2.7/dist-packages/pandas/core/config.py:570: DeprecationWarning: height has been deprecated.\n",
        "\n",
        "  warnings.warn(d.msg, DeprecationWarning)\n"
       ]
      },
      {
       "output_type": "stream",
       "stream": "stdout",
       "text": [
        "   lambda 0\n",
        "4  0.062729\n",
        "2  0.121439\n",
        "5  0.391102\n",
        "0  0.792989\n",
        "3  1.161379\n",
        "1  2.056501\n",
        "   lambda 1\n",
        "4  0.049221\n",
        "0  0.110774\n",
        "3  0.223671\n",
        "5  0.251588\n",
        "2  0.254605\n",
        "1  1.322967\n",
        "   lambda 2\n",
        "4  0.059243\n",
        "0  0.097591\n",
        "5  0.118895\n",
        "2  0.274762\n",
        "3  0.288014\n",
        "1  1.149168\n",
        "   lambda 3\n",
        "5  0.034112\n",
        "4  0.071253\n",
        "0  0.098218\n",
        "2  0.292536\n",
        "3  0.299107\n",
        "1  1.038245\n",
        "   lambda 4\n",
        "5  0.023718\n",
        "4  0.082772\n",
        "0  0.100673\n",
        "3  0.298220\n",
        "2  0.308361\n",
        "1  0.957737\n",
        "   lambda 5\n",
        "5  0.065248\n",
        "4  0.093180\n",
        "0  0.103362\n",
        "3  0.293798\n",
        "2  0.322303\n",
        "1  0.895605"
       ]
      },
      {
       "output_type": "stream",
       "stream": "stdout",
       "text": [
        "\n"
       ]
      },
      {
       "output_type": "stream",
       "stream": "stderr",
       "text": [
        "/usr/local/lib/python2.7/dist-packages/pandas/core/config.py:570: DeprecationWarning: height has been deprecated.\n",
        "\n",
        "  warnings.warn(d.msg, DeprecationWarning)\n"
       ]
      }
     ],
     "prompt_number": 29
    },
    {
     "cell_type": "raw",
     "metadata": {},
     "source": [
      "Para lambdas em {0, 1, 2} o w4 foi a vari\u00e1vel com menor valor absoluto.\n",
      "J\u00e1 para lambdas em {3, 4, 5} o w5 foi a vari\u00e1vel com menor valor absoluto."
     ]
    },
    {
     "cell_type": "heading",
     "level": 4,
     "metadata": {},
     "source": [
      "- Encontrar o valor do EQM para os dados de treinamento e de teste \n",
      "\n",
      "para cada um dos valores de \u03bb."
     ]
    },
    {
     "cell_type": "code",
     "collapsed": false,
     "input": [
      "eqms_por_lambda = []\n",
      "\n",
      "for lamb, coefs in coeficientes:\n",
      "    pred_training = [eq_1grau(coefs, xs) for xs in X_training]\n",
      "    eqm_training= eqm(pred_training, Y_training)\n",
      "    \n",
      "    pred_test = [eq_1grau(coefs, xs) for xs in X_test]\n",
      "    eqm_test = eqm(pred_test, Y_test)\n",
      "    \n",
      "    eqms_por_lambda.append([eqm_training, eqm_test])\n",
      "    \n",
      "eqms_por_lambda = np.array(eqms_por_lambda)\n"
     ],
     "language": "python",
     "metadata": {},
     "outputs": [],
     "prompt_number": 30
    },
    {
     "cell_type": "heading",
     "level": 4,
     "metadata": {},
     "source": [
      "Gr\u00e1fico de EQM x training-set"
     ]
    },
    {
     "cell_type": "code",
     "collapsed": false,
     "input": [
      "plot2d(lambdas, eqms_por_lambda[:,0])"
     ],
     "language": "python",
     "metadata": {},
     "outputs": [
      {
       "metadata": {},
       "output_type": "display_data",
       "png": "[encoded data removed]",
       "text": [
        "<matplotlib.figure.Figure at 0x3d32790>"
       ]
      }
     ],
     "prompt_number": 31
    },
    {
     "cell_type": "heading",
     "level": 4,
     "metadata": {},
     "source": [
      "Gr\u00e1fico de EQM x test-set"
     ]
    },
    {
     "cell_type": "code",
     "collapsed": false,
     "input": [
      "plot2d(lambdas, eqms_por_lambda[:,1])"
     ],
     "language": "python",
     "metadata": {},
     "outputs": [
      {
       "metadata": {},
       "output_type": "display_data",
       "png": "[encoded data removed]",
       "text": [
        "<matplotlib.figure.Figure at 0x49f7d50>"
       ]
      }
     ],
     "prompt_number": 32
    },
    {
     "cell_type": "heading",
     "level": 4,
     "metadata": {},
     "source": [
      "Coment\u00e1rios: Como os valores dos coeficientes variam com \u03bb ? \n",
      "\n",
      "Explique o motivo."
     ]
    },
    {
     "cell_type": "code",
     "collapsed": false,
     "input": [
      "medias_coef = []\n",
      "for lamb, coefs in coeficientes:\n",
      "    medias_coef.append(sum(np.abs(coefs))/len(coefs))\n",
      "\n",
      "\n",
      "plot2d(lambdas, medias_coef)"
     ],
     "language": "python",
     "metadata": {},
     "outputs": [
      {
       "metadata": {},
       "output_type": "display_data",
       "png": "[encoded data removed]",
       "text": [
        "<matplotlib.figure.Figure at 0x5031350>"
       ]
      }
     ],
     "prompt_number": 33
    },
    {
     "cell_type": "raw",
     "metadata": {},
     "source": [
      "Como se pode observar pelos dados acima, quanto maior o lambda, menor \u00e9 a m\u00e9dia absoluta dos coeficientes.\n",
      "O motivo \u00e9 o fato de ter sido utilizada uma t\u00e9cnica de regulariza\u00e7\u00e3o(suaviza\u00e7\u00e3o) que diminui o valor dos coeficientes proporcionalmente \u00e0s suas influ\u00eancias nos resultados."
     ]
    },
    {
     "cell_type": "heading",
     "level": 4,
     "metadata": {},
     "source": [
      "Comente o crescimento/decrescimento dos erros presente nas figuras \n",
      "\n",
      "EQM x \u03bb"
     ]
    },
    {
     "cell_type": "raw",
     "metadata": {},
     "source": [
      "Pode-se perceber que quanto maior o lambda da regulariza\u00e7\u00e3o, maior torna-se o EQM para os dados de treinamento e menor torna-se o EQM para os dados de teste.\n",
      "Uma das poss\u00edveis causas para tal situa\u00e7\u00e3o \u00e9 que h\u00e1 dados no training-set que causam uma grande varia\u00e7\u00e3o no modelo, varia\u00e7\u00e3o esta que n\u00e3o reflete a fun\u00e7\u00e3o que representa os dados. Tal problema \u00e9 denominado overfitting e, para resolv\u00ea-lo, utilizam-se t\u00e9cnicas de regulariza\u00e7\u00e3o de forma a diminuir tais distor\u00e7\u00f5es."
     ]
    }
   ],
   "metadata": {}
  }
 ]
}